{
  "nbformat": 4,
  "nbformat_minor": 0,
  "metadata": {
    "colab": {
      "name": "Foundations_of_NLP.ipynb",
      "provenance": [],
      "collapsed_sections": []
    },
    "kernelspec": {
      "name": "python3",
      "display_name": "Python 3"
    },
    "language_info": {
      "name": "python"
    },
    "accelerator": "GPU"
  },
  "cells": [
    {
      "cell_type": "markdown",
      "source": [
        "# **Foundations of NLP @FMI-UNIBUC**\n",
        "**Authors**: *Condrat Mihai (411), Guiţă Bianca-Oana (411), Meteşan Raul-Petru (406)*\n",
        "\n",
        "**Topic**: *15. Hate speech, offensive language identification, misogyny / stereotype detection*\n"
      ],
      "metadata": {
        "id": "hnqfIMR3LVri"
      }
    },
    {
      "cell_type": "markdown",
      "source": [
        "# Setup"
      ],
      "metadata": {
        "id": "lD7xfluPuxLh"
      }
    },
    {
      "cell_type": "markdown",
      "source": [
        "Data: drag and drop *olid-training-v1.0.tsv* into the working folder, such that it's path is */content/olid-training-v1.0.tsv*"
      ],
      "metadata": {
        "id": "N-EHFe1r_haP"
      }
    },
    {
      "cell_type": "code",
      "source": [
        "installed_dependencies = False"
      ],
      "metadata": {
        "id": "4PgBiPqyumnG"
      },
      "execution_count": null,
      "outputs": []
    },
    {
      "cell_type": "code",
      "source": [
        "# small hack to speed up multiple notebook runs\n",
        "def install_dependencies():\n",
        "  \n",
        "  # upgrades\n",
        "  !pip install --upgrade tensorflow\n",
        "  !pip install --upgrade ekphrasis\n",
        "\n",
        "  # NLTK downloads\n",
        "  import nltk\n",
        "  nltk.download('punkt')\n",
        "  nltk.download('stopwords')\n",
        "  nltk.download('wordnet')\n",
        "\n",
        "  # Importing pretrained word2vec\n",
        "  import gensim.downloader \n",
        "  # word2vec = gensim.downloader.load('word2vec-google-news-300')\n",
        "\n",
        "  return True\n",
        "\n",
        "if not installed_dependencies:\n",
        "  installed_dependencies = install_dependencies()"
      ],
      "metadata": {
        "id": "k6aqjQVquo7z"
      },
      "execution_count": null,
      "outputs": []
    },
    {
      "cell_type": "code",
      "source": [
        "### imports\n",
        "\n",
        "# data\n",
        "import numpy as np\n",
        "import pandas as pd\n",
        "import seaborn as sns\n",
        "import matplotlib.pyplot as plt\n",
        "\n",
        "# models\n",
        "import sklearn\n",
        "from sklearn.metrics import precision_recall_fscore_support\n",
        "from sklearn.metrics import precision_score\n",
        "from sklearn.metrics import recall_score\n",
        "from sklearn.metrics import f1_score\n",
        "from sklearn.metrics import confusion_matrix, classification_report\n",
        "from sklearn.metrics import accuracy_score\n",
        "from sklearn.model_selection import train_test_split\n",
        "from sklearn.model_selection import GridSearchCV\n",
        "\n",
        "from sklearn import tree\n",
        "from sklearn import svm\n",
        "from sklearn.linear_model import SGDClassifier\n",
        "from sklearn.ensemble import GradientBoostingClassifier\n",
        "from sklearn.ensemble import RandomForestClassifier\n",
        "\n",
        "import torch\n",
        "import torch.nn as nn\n",
        "from torch.utils.data import DataLoader\n",
        "\n",
        "# text and NLP\n",
        "import re\n",
        "import string\n",
        "import nltk\n",
        "\n",
        "import gensim.downloader\n",
        "from gensim.models import Word2Vec\n",
        "\n",
        "# ekphrasis for NLP\n",
        "from ekphrasis.classes.preprocessor import TextPreProcessor\n",
        "from ekphrasis.classes.tokenizer import SocialTokenizer\n",
        "from ekphrasis.dicts.emoticons import emoticons\n",
        "from ekphrasis.classes.spellcorrect import SpellCorrector\n"
      ],
      "metadata": {
        "id": "eHQ5oDtPurzx"
      },
      "execution_count": null,
      "outputs": []
    },
    {
      "cell_type": "markdown",
      "source": [
        "# Read the Data"
      ],
      "metadata": {
        "id": "Vmuybq3Wu1xT"
      }
    },
    {
      "cell_type": "markdown",
      "source": [
        "In the first step, the annotators mark the tweet as being offensive or not offensive (Subtask A).\n",
        "\n",
        "If the tweet is offensive then the annotators need to tell if the offense is targeted towards somebody or something or it is not targeted (Subtask B).\n",
        "\n",
        "If the offense is targeted then the annotators also need to tell who it is targeted against (Subtask C).\n"
      ],
      "metadata": {
        "id": "QwiOCWNl_K_o"
      }
    },
    {
      "cell_type": "code",
      "source": [
        "# Read Data\n",
        "data = pd.read_csv('olid-training-v1.0.tsv', sep='\\t')\n",
        "\n",
        "# Subtask A: Is this tweet offensive? (0/1)\n",
        "data['subtask_a'] = data['subtask_a'].replace('NOT', 0)\n",
        "data['subtask_a'] = data['subtask_a'].replace('OFF', 1)\n",
        "data['subtask_a'] = data['subtask_a'].fillna(-1).astype(int)\n",
        "\n",
        "# Subtask B: Is this offensive tweet targeted? (0/1)\n",
        "data['subtask_b'] = data['subtask_b'].replace('UNT', int(0))\n",
        "data['subtask_b'] = data['subtask_b'].replace('TIN', int(1))\n",
        "data['subtask_b'] = data['subtask_b'].fillna(-1).astype(int)\n",
        "\n",
        "# Subtask C: The target group of this offensive targeted tweet is: individual (0), group (1), other (2)\n",
        "data['subtask_c'] = data['subtask_c'].replace('IND', int(0))\n",
        "data['subtask_c'] = data['subtask_c'].replace('GRP', int(1))\n",
        "data['subtask_c'] = data['subtask_c'].replace('OTH', int(2))\n",
        "data['subtask_c'] = data['subtask_c'].fillna(-1).astype(int)\n",
        "\n",
        "# Check DF (All missing values are set to -1)\n",
        "data"
      ],
      "metadata": {
        "colab": {
          "base_uri": "https://localhost:8080/",
          "height": 423
        },
        "id": "7xL3f6HGs2aO",
        "outputId": "9c663206-2c36-4a63-f464-d55d018e2d86"
      },
      "execution_count": null,
      "outputs": [
        {
          "output_type": "execute_result",
          "data": {
            "text/html": [
              "\n",
              "  <div id=\"df-3e690b69-66b3-4003-9169-4488badcb086\">\n",
              "    <div class=\"colab-df-container\">\n",
              "      <div>\n",
              "<style scoped>\n",
              "    .dataframe tbody tr th:only-of-type {\n",
              "        vertical-align: middle;\n",
              "    }\n",
              "\n",
              "    .dataframe tbody tr th {\n",
              "        vertical-align: top;\n",
              "    }\n",
              "\n",
              "    .dataframe thead th {\n",
              "        text-align: right;\n",
              "    }\n",
              "</style>\n",
              "<table border=\"1\" class=\"dataframe\">\n",
              "  <thead>\n",
              "    <tr style=\"text-align: right;\">\n",
              "      <th></th>\n",
              "      <th>id</th>\n",
              "      <th>tweet</th>\n",
              "      <th>subtask_a</th>\n",
              "      <th>subtask_b</th>\n",
              "      <th>subtask_c</th>\n",
              "    </tr>\n",
              "  </thead>\n",
              "  <tbody>\n",
              "    <tr>\n",
              "      <th>0</th>\n",
              "      <td>86426</td>\n",
              "      <td>@USER She should ask a few native Americans wh...</td>\n",
              "      <td>1</td>\n",
              "      <td>0</td>\n",
              "      <td>-1</td>\n",
              "    </tr>\n",
              "    <tr>\n",
              "      <th>1</th>\n",
              "      <td>90194</td>\n",
              "      <td>@USER @USER Go home you’re drunk!!! @USER #MAG...</td>\n",
              "      <td>1</td>\n",
              "      <td>1</td>\n",
              "      <td>0</td>\n",
              "    </tr>\n",
              "    <tr>\n",
              "      <th>2</th>\n",
              "      <td>16820</td>\n",
              "      <td>Amazon is investigating Chinese employees who ...</td>\n",
              "      <td>0</td>\n",
              "      <td>-1</td>\n",
              "      <td>-1</td>\n",
              "    </tr>\n",
              "    <tr>\n",
              "      <th>3</th>\n",
              "      <td>62688</td>\n",
              "      <td>@USER Someone should'veTaken\" this piece of sh...</td>\n",
              "      <td>1</td>\n",
              "      <td>0</td>\n",
              "      <td>-1</td>\n",
              "    </tr>\n",
              "    <tr>\n",
              "      <th>4</th>\n",
              "      <td>43605</td>\n",
              "      <td>@USER @USER Obama wanted liberals &amp;amp; illega...</td>\n",
              "      <td>0</td>\n",
              "      <td>-1</td>\n",
              "      <td>-1</td>\n",
              "    </tr>\n",
              "    <tr>\n",
              "      <th>...</th>\n",
              "      <td>...</td>\n",
              "      <td>...</td>\n",
              "      <td>...</td>\n",
              "      <td>...</td>\n",
              "      <td>...</td>\n",
              "    </tr>\n",
              "    <tr>\n",
              "      <th>13235</th>\n",
              "      <td>95338</td>\n",
              "      <td>@USER Sometimes I get strong vibes from people...</td>\n",
              "      <td>1</td>\n",
              "      <td>1</td>\n",
              "      <td>0</td>\n",
              "    </tr>\n",
              "    <tr>\n",
              "      <th>13236</th>\n",
              "      <td>67210</td>\n",
              "      <td>Benidorm ✅  Creamfields ✅  Maga ✅   Not too sh...</td>\n",
              "      <td>0</td>\n",
              "      <td>-1</td>\n",
              "      <td>-1</td>\n",
              "    </tr>\n",
              "    <tr>\n",
              "      <th>13237</th>\n",
              "      <td>82921</td>\n",
              "      <td>@USER And why report this garbage.  We don't g...</td>\n",
              "      <td>1</td>\n",
              "      <td>1</td>\n",
              "      <td>2</td>\n",
              "    </tr>\n",
              "    <tr>\n",
              "      <th>13238</th>\n",
              "      <td>27429</td>\n",
              "      <td>@USER Pussy</td>\n",
              "      <td>1</td>\n",
              "      <td>0</td>\n",
              "      <td>-1</td>\n",
              "    </tr>\n",
              "    <tr>\n",
              "      <th>13239</th>\n",
              "      <td>46552</td>\n",
              "      <td>#Spanishrevenge vs. #justice #HumanRights and ...</td>\n",
              "      <td>0</td>\n",
              "      <td>-1</td>\n",
              "      <td>-1</td>\n",
              "    </tr>\n",
              "  </tbody>\n",
              "</table>\n",
              "<p>13240 rows × 5 columns</p>\n",
              "</div>\n",
              "      <button class=\"colab-df-convert\" onclick=\"convertToInteractive('df-3e690b69-66b3-4003-9169-4488badcb086')\"\n",
              "              title=\"Convert this dataframe to an interactive table.\"\n",
              "              style=\"display:none;\">\n",
              "        \n",
              "  <svg xmlns=\"http://www.w3.org/2000/svg\" height=\"24px\"viewBox=\"0 0 24 24\"\n",
              "       width=\"24px\">\n",
              "    <path d=\"M0 0h24v24H0V0z\" fill=\"none\"/>\n",
              "    <path d=\"M18.56 5.44l.94 2.06.94-2.06 2.06-.94-2.06-.94-.94-2.06-.94 2.06-2.06.94zm-11 1L8.5 8.5l.94-2.06 2.06-.94-2.06-.94L8.5 2.5l-.94 2.06-2.06.94zm10 10l.94 2.06.94-2.06 2.06-.94-2.06-.94-.94-2.06-.94 2.06-2.06.94z\"/><path d=\"M17.41 7.96l-1.37-1.37c-.4-.4-.92-.59-1.43-.59-.52 0-1.04.2-1.43.59L10.3 9.45l-7.72 7.72c-.78.78-.78 2.05 0 2.83L4 21.41c.39.39.9.59 1.41.59.51 0 1.02-.2 1.41-.59l7.78-7.78 2.81-2.81c.8-.78.8-2.07 0-2.86zM5.41 20L4 18.59l7.72-7.72 1.47 1.35L5.41 20z\"/>\n",
              "  </svg>\n",
              "      </button>\n",
              "      \n",
              "  <style>\n",
              "    .colab-df-container {\n",
              "      display:flex;\n",
              "      flex-wrap:wrap;\n",
              "      gap: 12px;\n",
              "    }\n",
              "\n",
              "    .colab-df-convert {\n",
              "      background-color: #E8F0FE;\n",
              "      border: none;\n",
              "      border-radius: 50%;\n",
              "      cursor: pointer;\n",
              "      display: none;\n",
              "      fill: #1967D2;\n",
              "      height: 32px;\n",
              "      padding: 0 0 0 0;\n",
              "      width: 32px;\n",
              "    }\n",
              "\n",
              "    .colab-df-convert:hover {\n",
              "      background-color: #E2EBFA;\n",
              "      box-shadow: 0px 1px 2px rgba(60, 64, 67, 0.3), 0px 1px 3px 1px rgba(60, 64, 67, 0.15);\n",
              "      fill: #174EA6;\n",
              "    }\n",
              "\n",
              "    [theme=dark] .colab-df-convert {\n",
              "      background-color: #3B4455;\n",
              "      fill: #D2E3FC;\n",
              "    }\n",
              "\n",
              "    [theme=dark] .colab-df-convert:hover {\n",
              "      background-color: #434B5C;\n",
              "      box-shadow: 0px 1px 3px 1px rgba(0, 0, 0, 0.15);\n",
              "      filter: drop-shadow(0px 1px 2px rgba(0, 0, 0, 0.3));\n",
              "      fill: #FFFFFF;\n",
              "    }\n",
              "  </style>\n",
              "\n",
              "      <script>\n",
              "        const buttonEl =\n",
              "          document.querySelector('#df-3e690b69-66b3-4003-9169-4488badcb086 button.colab-df-convert');\n",
              "        buttonEl.style.display =\n",
              "          google.colab.kernel.accessAllowed ? 'block' : 'none';\n",
              "\n",
              "        async function convertToInteractive(key) {\n",
              "          const element = document.querySelector('#df-3e690b69-66b3-4003-9169-4488badcb086');\n",
              "          const dataTable =\n",
              "            await google.colab.kernel.invokeFunction('convertToInteractive',\n",
              "                                                     [key], {});\n",
              "          if (!dataTable) return;\n",
              "\n",
              "          const docLinkHtml = 'Like what you see? Visit the ' +\n",
              "            '<a target=\"_blank\" href=https://colab.research.google.com/notebooks/data_table.ipynb>data table notebook</a>'\n",
              "            + ' to learn more about interactive tables.';\n",
              "          element.innerHTML = '';\n",
              "          dataTable['output_type'] = 'display_data';\n",
              "          await google.colab.output.renderOutput(dataTable, element);\n",
              "          const docLink = document.createElement('div');\n",
              "          docLink.innerHTML = docLinkHtml;\n",
              "          element.appendChild(docLink);\n",
              "        }\n",
              "      </script>\n",
              "    </div>\n",
              "  </div>\n",
              "  "
            ],
            "text/plain": [
              "          id  ... subtask_c\n",
              "0      86426  ...        -1\n",
              "1      90194  ...         0\n",
              "2      16820  ...        -1\n",
              "3      62688  ...        -1\n",
              "4      43605  ...        -1\n",
              "...      ...  ...       ...\n",
              "13235  95338  ...         0\n",
              "13236  67210  ...        -1\n",
              "13237  82921  ...         2\n",
              "13238  27429  ...        -1\n",
              "13239  46552  ...        -1\n",
              "\n",
              "[13240 rows x 5 columns]"
            ]
          },
          "metadata": {},
          "execution_count": 5
        }
      ]
    },
    {
      "cell_type": "markdown",
      "source": [
        "# Pre-process the Data"
      ],
      "metadata": {
        "id": "dVrjFH9gu5AT"
      }
    },
    {
      "cell_type": "code",
      "source": [
        "# separate list, used mainly for testing purposes\n",
        "tweets = data['tweet']\n",
        "\n",
        "tweets"
      ],
      "metadata": {
        "colab": {
          "base_uri": "https://localhost:8080/"
        },
        "id": "AWIpwZneu75m",
        "outputId": "d72bfe8a-abe8-4ba0-a942-cf3e770d7f28"
      },
      "execution_count": null,
      "outputs": [
        {
          "output_type": "execute_result",
          "data": {
            "text/plain": [
              "0        @USER She should ask a few native Americans wh...\n",
              "1        @USER @USER Go home you’re drunk!!! @USER #MAG...\n",
              "2        Amazon is investigating Chinese employees who ...\n",
              "3        @USER Someone should'veTaken\" this piece of sh...\n",
              "4        @USER @USER Obama wanted liberals &amp; illega...\n",
              "                               ...                        \n",
              "13235    @USER Sometimes I get strong vibes from people...\n",
              "13236    Benidorm ✅  Creamfields ✅  Maga ✅   Not too sh...\n",
              "13237    @USER And why report this garbage.  We don't g...\n",
              "13238                                          @USER Pussy\n",
              "13239    #Spanishrevenge vs. #justice #HumanRights and ...\n",
              "Name: tweet, Length: 13240, dtype: object"
            ]
          },
          "metadata": {},
          "execution_count": 6
        }
      ]
    },
    {
      "cell_type": "markdown",
      "source": [
        "**Text correction:**"
      ],
      "metadata": {
        "id": "FLo3DzUA2N8S"
      }
    },
    {
      "cell_type": "code",
      "source": [
        "### long runtime, should be used only on a list containing tweets/words that NEED correction\n",
        "\n",
        "# text correction helper function\n",
        "def correct_tweets (tweets_to_correct = []):\n",
        "\n",
        "  # text corrector\n",
        "  sp = SpellCorrector(corpus=\"english\") \n",
        "\n",
        "  corrected_tweets = []\n",
        "\n",
        "  # correct each tweet\n",
        "  for tweet in tweets_to_correct:\n",
        "    tweet = sp.correct(tweet)\n",
        "    corrected_tweets.append(tweet)\n",
        "  \n",
        "  return corrected_tweets"
      ],
      "metadata": {
        "id": "ql9r1d3Wxm66"
      },
      "execution_count": null,
      "outputs": []
    },
    {
      "cell_type": "code",
      "source": [
        "# check some tweets\n",
        "temp = tweets[:1]\n",
        "print(temp, '\\n')\n",
        "\n",
        "# test the corrector\n",
        "print(correct_tweets(temp))"
      ],
      "metadata": {
        "colab": {
          "base_uri": "https://localhost:8080/"
        },
        "id": "83xip3ynyUIc",
        "outputId": "1ec04e8c-304a-4a26-eca2-6d4df8bb7dd8"
      },
      "execution_count": null,
      "outputs": [
        {
          "output_type": "stream",
          "name": "stdout",
          "text": [
            "0    @USER She should ask a few native Americans wh...\n",
            "Name: tweet, dtype: object \n",
            "\n",
            "Word statistics files not found!\n",
            "Downloading... done!\n",
            "Unpacking... done!\n",
            "Reading english - 1grams ...\n",
            "generating cache file for faster loading...\n",
            "reading ngrams /root/.ekphrasis/stats/english/counts_1grams.txt\n",
            "['@USER She should ask a few native Americans what their take on this is.']\n"
          ]
        }
      ]
    },
    {
      "cell_type": "markdown",
      "source": [
        "**Remove text contractions:**"
      ],
      "metadata": {
        "id": "LyWtZDs35-R0"
      }
    },
    {
      "cell_type": "code",
      "source": [
        "# handle some of the more popular contractions\n",
        "def remove_contractions (text):\n",
        "  \n",
        "    text = re.sub(r\"i'm\", \"i am\", text)\n",
        "    text = re.sub(r\"he's\", \"he is \", text)\n",
        "    text = re.sub(r\"she's\", \"she is\", text)\n",
        "    text = re.sub(r\"that's\", \"that is\", text)\n",
        "    text = re.sub(r\"what's\", \"what is\", text)\n",
        "    text = re.sub(r\"where's\", \"where is\", text)\n",
        "    text = re.sub(r\"it's\", \" it is\", text)\n",
        "    text = re.sub(r\"\\'ll\", \" will\", text)\n",
        "    text = re.sub(r\"\\'ve\", \" have\", text)\n",
        "    text = re.sub(r\"\\'re\", \"  are\", text)\n",
        "    text = re.sub(r\"\\'d\", \"  would\", text)\n",
        "    text = re.sub(r\"won't\", \"will not\", text)\n",
        "    text = re.sub(r\"can't\", \"cannot\", text)\n",
        "    text = re.sub(r\"n't\", \" not\", text)\n",
        "    text = re.sub(r\"'bout\", \"about\", text)\n",
        "    \n",
        "    return text"
      ],
      "metadata": {
        "id": "IpyIVpWS2mCG"
      },
      "execution_count": null,
      "outputs": []
    },
    {
      "cell_type": "markdown",
      "source": [
        "**Remove emojis:**"
      ],
      "metadata": {
        "id": "FI-oZVKr6BRH"
      }
    },
    {
      "cell_type": "code",
      "source": [
        "def remove_emoji(string):\n",
        "    emoji_pattern = re.compile(\"[\"\n",
        "                               u\"\\U0001F600-\\U0001F64F\"  # emoticons\n",
        "                               u\"\\U0001F300-\\U0001F5FF\"  # symbols & pictographs\n",
        "                               u\"\\U0001F680-\\U0001F6FF\"  # transport & map symbols\n",
        "                               u\"\\U0001F1E0-\\U0001F1FF\"  # flags (iOS)\n",
        "                               u\"\\U00002500-\\U00002BEF\"  # chinese char\n",
        "                               u\"\\U00002702-\\U000027B0\"\n",
        "                               u\"\\U00002702-\\U000027B0\"\n",
        "                               u\"\\U000024C2-\\U0001F251\"\n",
        "                               u\"\\U0001f926-\\U0001f937\"\n",
        "                               u\"\\U00010000-\\U0010ffff\"\n",
        "                               u\"\\u2640-\\u2642\"\n",
        "                               u\"\\u2600-\\u2B55\"\n",
        "                               u\"\\u200d\"\n",
        "                               u\"\\u23cf\"\n",
        "                               u\"\\u23e9\"\n",
        "                               u\"\\u231a\"\n",
        "                               u\"\\ufe0f\"  # dingbats\n",
        "                               u\"\\u3030\"\n",
        "                               \"]+\", flags = re.UNICODE)\n",
        "    return emoji_pattern.sub(r' ', string)"
      ],
      "metadata": {
        "id": "wU_o3q0D6Da7"
      },
      "execution_count": null,
      "outputs": []
    },
    {
      "cell_type": "markdown",
      "source": [
        "**Text pre-processor:**"
      ],
      "metadata": {
        "id": "xMyqsdQd2UC8"
      }
    },
    {
      "cell_type": "code",
      "source": [
        "text_processor = TextPreProcessor(\n",
        "    \n",
        "    # terms that will be normalized\n",
        "    normalize = ['url', 'email', 'percent', 'money', 'phone', 'user',\n",
        "        'time', 'url', 'date', 'number'],\n",
        "\n",
        "    # terms that will be annotated\n",
        "    annotate = {\"hashtag\", \"allcaps\", \"elongated\", \"repeated\",\n",
        "        'emphasis', 'censored'},\n",
        "    \n",
        "    # corpus from which the word statistics are going to be used \n",
        "    # for word segmentation \n",
        "    segmenter = \"twitter\", \n",
        "    \n",
        "    # corpus from which the word statistics are going to be used \n",
        "    # for spell correction\n",
        "    corrector = \"twitter\", \n",
        "    \n",
        "    fix_html = False,             # fix HTML tokens\n",
        "    unpack_hashtags = False,       # perform word segmentation on hashtags\n",
        "    unpack_contractions = True,   # Unpack contractions (can't -> can not)\n",
        "    spell_correct_elong = False,  # spell correction for elongated words\n",
        "    \n",
        "    # select a tokenizer\n",
        "    tokenizer = SocialTokenizer(lowercase = True).tokenize,\n",
        "    \n",
        "    # list of dictionaries, for replacing tokens extracted from the text,\n",
        "    # with other expressions. You can pass more than one dictionaries.\n",
        "    dicts = [emoticons]\n",
        ")"
      ],
      "metadata": {
        "colab": {
          "base_uri": "https://localhost:8080/"
        },
        "id": "vH2Ht9y6vcCr",
        "outputId": "97e36175-d737-42ad-9228-dd1e0441da2e"
      },
      "execution_count": null,
      "outputs": [
        {
          "output_type": "stream",
          "name": "stderr",
          "text": [
            "/usr/local/lib/python3.7/dist-packages/ekphrasis/classes/tokenizer.py:225: FutureWarning: Possible nested set at position 2190\n",
            "  self.tok = re.compile(r\"({})\".format(\"|\".join(pipeline)))\n"
          ]
        },
        {
          "output_type": "stream",
          "name": "stdout",
          "text": [
            "Reading twitter - 1grams ...\n",
            "generating cache file for faster loading...\n",
            "reading ngrams /root/.ekphrasis/stats/twitter/counts_1grams.txt\n"
          ]
        },
        {
          "output_type": "stream",
          "name": "stderr",
          "text": [
            "/usr/local/lib/python3.7/dist-packages/ekphrasis/classes/exmanager.py:14: FutureWarning: Possible nested set at position 42\n",
            "  regexes = {k.lower(): re.compile(self.expressions[k]) for k, v in\n"
          ]
        }
      ]
    },
    {
      "cell_type": "markdown",
      "source": [
        "**Pre-processing:**"
      ],
      "metadata": {
        "id": "zF_TBbCD7oNK"
      }
    },
    {
      "cell_type": "code",
      "source": [
        "def preprocess_tweets (tweets_to_preprocess = []):\n",
        "\n",
        "  processed_tweets = []\n",
        "\n",
        "  for tweet in tweets_to_preprocess:\n",
        "\n",
        "    # prepare tweet for pre-processing with ekphrasis\n",
        "    # tweet = text_processor.pre_process_doc(tweet)\n",
        "\n",
        "    # remove new line characters '\\n'\n",
        "    tweet = tweet.replace(\"\\n\", \" \")\n",
        "\n",
        "    # lowercase\n",
        "    tweet = tweet.lower()\n",
        "\n",
        "    # remove common contractions\n",
        "    tweet = remove_contractions(tweet)\n",
        "\n",
        "    # remove links\n",
        "    tweet = re.sub(r'http\\S+', \" \", tweet)\n",
        "\n",
        "    # remove mentions\n",
        "    tweet = re.sub(r'@([a-zA-Z0-9_])+', \" \", tweet)\n",
        "\n",
        "    # remove hashtags\n",
        "    tweet = re.sub(r'#([a-zA-Z0-9_])+', \" \", tweet)\n",
        "\n",
        "    # remove digits\n",
        "    tweet = re.sub(r'\\b\\d+\\b', \" \", tweet)\n",
        "\n",
        "    # remove punctuation\n",
        "    tweet = tweet.translate(str.maketrans('', '', string.punctuation))\n",
        "\n",
        "    # remove emojis and emoticons\n",
        "    tweet = remove_emoji(tweet)\n",
        "    tweet = tweet.replace(\"xD\", \" \") # manual removal of 2-letter emoticons\n",
        "    #emoticons are removed at the punctuation & digits part of the preprocessing;\n",
        "    #we must deal with single letters (e.g. \":P\" => \" P\") at the next step.\n",
        "\n",
        "    # tokenize tweet into separate words\n",
        "    tweet = nltk.tokenize.word_tokenize(tweet)\n",
        "\n",
        "    # remove stopwords\n",
        "    tweet = [_tweet for _tweet in tweet \n",
        "              if _tweet not in nltk.corpus.stopwords.words('english')\n",
        "              and len(_tweet) > 1]\n",
        "\n",
        "    # lematization, https://arxiv.org/pdf/1707.01780.pdf finds no significant impact\n",
        "    # on accuracy for text classification using neural architectures,\n",
        "    # so we can use lemmatization for classical methods and stemming for NN's\n",
        "    # tweet = [nltk.WordNetLemmatizer().lemmatize(_tweet) for _tweet in tweet]\n",
        "\n",
        "    # stemming\n",
        "    # tweet = [nltk.PorterStemmer().stem(_tweet) for _tweet in tweet]\n",
        "    tweet = [nltk.SnowballStemmer(\"english\").stem(_tweet) for _tweet in tweet]\n",
        "\n",
        "    # add the tweet to the processed tweets list\n",
        "    tweet = \" \".join(tweet)\n",
        "    processed_tweets.append(tweet)\n",
        "\n",
        "  return processed_tweets"
      ],
      "metadata": {
        "id": "qCewohWd7n55"
      },
      "execution_count": null,
      "outputs": []
    },
    {
      "cell_type": "code",
      "source": [
        "# check for single tweet (passed as a list)\n",
        "print(preprocess_tweets([tweets[0]]))\n",
        "\n",
        "# check the processing\n",
        "temp = tweets[:10]\n",
        "\n",
        "print('\\n -> Not-Processed:')\n",
        "for t in temp:\n",
        "  print(t)\n",
        "\n",
        "print('\\n -> Processed:')\n",
        "preprocess_tweets(temp)"
      ],
      "metadata": {
        "colab": {
          "base_uri": "https://localhost:8080/"
        },
        "id": "pIJYQGgr1RxK",
        "outputId": "367ede85-5a1e-4da5-b740-67a9defb625f"
      },
      "execution_count": null,
      "outputs": [
        {
          "output_type": "stream",
          "name": "stdout",
          "text": [
            "['ask nativ american take']\n",
            "\n",
            " -> Not-Processed:\n",
            "@USER She should ask a few native Americans what their take on this is.\n",
            "@USER @USER Go home you’re drunk!!! @USER #MAGA #Trump2020 👊🇺🇸👊 URL\n",
            "Amazon is investigating Chinese employees who are selling internal data to third-party sellers looking for an edge in the competitive marketplace. URL #Amazon #MAGA #KAG #CHINA #TCOT\n",
            "@USER Someone should'veTaken\" this piece of shit to a volcano. 😂\"\n",
            "@USER @USER Obama wanted liberals &amp; illegals to move into red states\n",
            "@USER Liberals are all Kookoo !!!\n",
            "@USER @USER Oh noes! Tough shit.\n",
            "@USER was literally just talking about this lol all mass shootings like that have been set ups. it’s propaganda used to divide us on major issues like gun control and terrorism\n",
            "@USER Buy more icecream!!!\n",
            "@USER Canada doesn’t need another CUCK! We already have enough #LooneyLeft #Liberals f**king up our great country! #Qproofs #TrudeauMustGo\n",
            "\n",
            " -> Processed:\n"
          ]
        },
        {
          "output_type": "execute_result",
          "data": {
            "text/plain": [
              "['ask nativ american take',\n",
              " 'go home drunk url',\n",
              " 'amazon investig chines employe sell intern data thirdparti seller look edg competit marketplac url',\n",
              " 'someon havetaken piec shit volcano',\n",
              " 'obama want liber amp illeg move red state',\n",
              " 'liber kookoo',\n",
              " 'oh noe tough shit',\n",
              " 'liter talk lol mass shoot like set up propaganda use divid us major issu like gun control terror',\n",
              " 'buy icecream',\n",
              " 'canada need anoth cuck alreadi enough fking great countri']"
            ]
          },
          "metadata": {},
          "execution_count": 13
        }
      ]
    },
    {
      "cell_type": "code",
      "source": [
        "# pre-process the tweets in the dataframe\n",
        "intitial_data = data['tweet']\n",
        "data['tweet'] = preprocess_tweets(data['tweet'])\n",
        "\n",
        "data"
      ],
      "metadata": {
        "colab": {
          "base_uri": "https://localhost:8080/",
          "height": 423
        },
        "id": "Pn0mU-j99LeR",
        "outputId": "f0a53494-0f2b-4036-caf3-c79e7a7a5746"
      },
      "execution_count": null,
      "outputs": [
        {
          "output_type": "execute_result",
          "data": {
            "text/html": [
              "\n",
              "  <div id=\"df-1b425639-9ca2-4b00-9014-a6594875b88d\">\n",
              "    <div class=\"colab-df-container\">\n",
              "      <div>\n",
              "<style scoped>\n",
              "    .dataframe tbody tr th:only-of-type {\n",
              "        vertical-align: middle;\n",
              "    }\n",
              "\n",
              "    .dataframe tbody tr th {\n",
              "        vertical-align: top;\n",
              "    }\n",
              "\n",
              "    .dataframe thead th {\n",
              "        text-align: right;\n",
              "    }\n",
              "</style>\n",
              "<table border=\"1\" class=\"dataframe\">\n",
              "  <thead>\n",
              "    <tr style=\"text-align: right;\">\n",
              "      <th></th>\n",
              "      <th>id</th>\n",
              "      <th>tweet</th>\n",
              "      <th>subtask_a</th>\n",
              "      <th>subtask_b</th>\n",
              "      <th>subtask_c</th>\n",
              "    </tr>\n",
              "  </thead>\n",
              "  <tbody>\n",
              "    <tr>\n",
              "      <th>0</th>\n",
              "      <td>86426</td>\n",
              "      <td>ask nativ american take</td>\n",
              "      <td>1</td>\n",
              "      <td>0</td>\n",
              "      <td>-1</td>\n",
              "    </tr>\n",
              "    <tr>\n",
              "      <th>1</th>\n",
              "      <td>90194</td>\n",
              "      <td>go home drunk url</td>\n",
              "      <td>1</td>\n",
              "      <td>1</td>\n",
              "      <td>0</td>\n",
              "    </tr>\n",
              "    <tr>\n",
              "      <th>2</th>\n",
              "      <td>16820</td>\n",
              "      <td>amazon investig chines employe sell intern dat...</td>\n",
              "      <td>0</td>\n",
              "      <td>-1</td>\n",
              "      <td>-1</td>\n",
              "    </tr>\n",
              "    <tr>\n",
              "      <th>3</th>\n",
              "      <td>62688</td>\n",
              "      <td>someon havetaken piec shit volcano</td>\n",
              "      <td>1</td>\n",
              "      <td>0</td>\n",
              "      <td>-1</td>\n",
              "    </tr>\n",
              "    <tr>\n",
              "      <th>4</th>\n",
              "      <td>43605</td>\n",
              "      <td>obama want liber amp illeg move red state</td>\n",
              "      <td>0</td>\n",
              "      <td>-1</td>\n",
              "      <td>-1</td>\n",
              "    </tr>\n",
              "    <tr>\n",
              "      <th>...</th>\n",
              "      <td>...</td>\n",
              "      <td>...</td>\n",
              "      <td>...</td>\n",
              "      <td>...</td>\n",
              "      <td>...</td>\n",
              "    </tr>\n",
              "    <tr>\n",
              "      <th>13235</th>\n",
              "      <td>95338</td>\n",
              "      <td>sometim get strong vibe peopl man vibe ten mil...</td>\n",
              "      <td>1</td>\n",
              "      <td>1</td>\n",
              "      <td>0</td>\n",
              "    </tr>\n",
              "    <tr>\n",
              "      <th>13236</th>\n",
              "      <td>67210</td>\n",
              "      <td>benidorm creamfield maga shabbi summer</td>\n",
              "      <td>0</td>\n",
              "      <td>-1</td>\n",
              "      <td>-1</td>\n",
              "    </tr>\n",
              "    <tr>\n",
              "      <th>13237</th>\n",
              "      <td>82921</td>\n",
              "      <td>report garbag give crap</td>\n",
              "      <td>1</td>\n",
              "      <td>1</td>\n",
              "      <td>2</td>\n",
              "    </tr>\n",
              "    <tr>\n",
              "      <th>13238</th>\n",
              "      <td>27429</td>\n",
              "      <td>pussi</td>\n",
              "      <td>1</td>\n",
              "      <td>0</td>\n",
              "      <td>-1</td>\n",
              "    </tr>\n",
              "    <tr>\n",
              "      <th>13239</th>\n",
              "      <td>46552</td>\n",
              "      <td>vs url</td>\n",
              "      <td>0</td>\n",
              "      <td>-1</td>\n",
              "      <td>-1</td>\n",
              "    </tr>\n",
              "  </tbody>\n",
              "</table>\n",
              "<p>13240 rows × 5 columns</p>\n",
              "</div>\n",
              "      <button class=\"colab-df-convert\" onclick=\"convertToInteractive('df-1b425639-9ca2-4b00-9014-a6594875b88d')\"\n",
              "              title=\"Convert this dataframe to an interactive table.\"\n",
              "              style=\"display:none;\">\n",
              "        \n",
              "  <svg xmlns=\"http://www.w3.org/2000/svg\" height=\"24px\"viewBox=\"0 0 24 24\"\n",
              "       width=\"24px\">\n",
              "    <path d=\"M0 0h24v24H0V0z\" fill=\"none\"/>\n",
              "    <path d=\"M18.56 5.44l.94 2.06.94-2.06 2.06-.94-2.06-.94-.94-2.06-.94 2.06-2.06.94zm-11 1L8.5 8.5l.94-2.06 2.06-.94-2.06-.94L8.5 2.5l-.94 2.06-2.06.94zm10 10l.94 2.06.94-2.06 2.06-.94-2.06-.94-.94-2.06-.94 2.06-2.06.94z\"/><path d=\"M17.41 7.96l-1.37-1.37c-.4-.4-.92-.59-1.43-.59-.52 0-1.04.2-1.43.59L10.3 9.45l-7.72 7.72c-.78.78-.78 2.05 0 2.83L4 21.41c.39.39.9.59 1.41.59.51 0 1.02-.2 1.41-.59l7.78-7.78 2.81-2.81c.8-.78.8-2.07 0-2.86zM5.41 20L4 18.59l7.72-7.72 1.47 1.35L5.41 20z\"/>\n",
              "  </svg>\n",
              "      </button>\n",
              "      \n",
              "  <style>\n",
              "    .colab-df-container {\n",
              "      display:flex;\n",
              "      flex-wrap:wrap;\n",
              "      gap: 12px;\n",
              "    }\n",
              "\n",
              "    .colab-df-convert {\n",
              "      background-color: #E8F0FE;\n",
              "      border: none;\n",
              "      border-radius: 50%;\n",
              "      cursor: pointer;\n",
              "      display: none;\n",
              "      fill: #1967D2;\n",
              "      height: 32px;\n",
              "      padding: 0 0 0 0;\n",
              "      width: 32px;\n",
              "    }\n",
              "\n",
              "    .colab-df-convert:hover {\n",
              "      background-color: #E2EBFA;\n",
              "      box-shadow: 0px 1px 2px rgba(60, 64, 67, 0.3), 0px 1px 3px 1px rgba(60, 64, 67, 0.15);\n",
              "      fill: #174EA6;\n",
              "    }\n",
              "\n",
              "    [theme=dark] .colab-df-convert {\n",
              "      background-color: #3B4455;\n",
              "      fill: #D2E3FC;\n",
              "    }\n",
              "\n",
              "    [theme=dark] .colab-df-convert:hover {\n",
              "      background-color: #434B5C;\n",
              "      box-shadow: 0px 1px 3px 1px rgba(0, 0, 0, 0.15);\n",
              "      filter: drop-shadow(0px 1px 2px rgba(0, 0, 0, 0.3));\n",
              "      fill: #FFFFFF;\n",
              "    }\n",
              "  </style>\n",
              "\n",
              "      <script>\n",
              "        const buttonEl =\n",
              "          document.querySelector('#df-1b425639-9ca2-4b00-9014-a6594875b88d button.colab-df-convert');\n",
              "        buttonEl.style.display =\n",
              "          google.colab.kernel.accessAllowed ? 'block' : 'none';\n",
              "\n",
              "        async function convertToInteractive(key) {\n",
              "          const element = document.querySelector('#df-1b425639-9ca2-4b00-9014-a6594875b88d');\n",
              "          const dataTable =\n",
              "            await google.colab.kernel.invokeFunction('convertToInteractive',\n",
              "                                                     [key], {});\n",
              "          if (!dataTable) return;\n",
              "\n",
              "          const docLinkHtml = 'Like what you see? Visit the ' +\n",
              "            '<a target=\"_blank\" href=https://colab.research.google.com/notebooks/data_table.ipynb>data table notebook</a>'\n",
              "            + ' to learn more about interactive tables.';\n",
              "          element.innerHTML = '';\n",
              "          dataTable['output_type'] = 'display_data';\n",
              "          await google.colab.output.renderOutput(dataTable, element);\n",
              "          const docLink = document.createElement('div');\n",
              "          docLink.innerHTML = docLinkHtml;\n",
              "          element.appendChild(docLink);\n",
              "        }\n",
              "      </script>\n",
              "    </div>\n",
              "  </div>\n",
              "  "
            ],
            "text/plain": [
              "          id  ... subtask_c\n",
              "0      86426  ...        -1\n",
              "1      90194  ...         0\n",
              "2      16820  ...        -1\n",
              "3      62688  ...        -1\n",
              "4      43605  ...        -1\n",
              "...      ...  ...       ...\n",
              "13235  95338  ...         0\n",
              "13236  67210  ...        -1\n",
              "13237  82921  ...         2\n",
              "13238  27429  ...        -1\n",
              "13239  46552  ...        -1\n",
              "\n",
              "[13240 rows x 5 columns]"
            ]
          },
          "metadata": {},
          "execution_count": 14
        }
      ]
    },
    {
      "cell_type": "markdown",
      "source": [
        "# Clean the Remaining Data"
      ],
      "metadata": {
        "id": "fN9XS_hZNa85"
      }
    },
    {
      "cell_type": "markdown",
      "source": [
        "**Check missing values:**"
      ],
      "metadata": {
        "id": "5qdVpMWDPvTb"
      }
    },
    {
      "cell_type": "code",
      "source": [
        "# replace -1 values with NaN\n",
        "data = data.replace(-1, np.nan)\n",
        "\n",
        "# drop tweets that became empty after processing\n",
        "data = data[data['tweet'].str.len() > 0]\n",
        "\n",
        "# check remaining missing values\n",
        "data.isnull().sum()"
      ],
      "metadata": {
        "colab": {
          "base_uri": "https://localhost:8080/"
        },
        "id": "fqzU3cPgPupY",
        "outputId": "37f92baa-a621-4e92-d837-bd7614f86e63"
      },
      "execution_count": null,
      "outputs": [
        {
          "output_type": "execute_result",
          "data": {
            "text/plain": [
              "id              0\n",
              "tweet           0\n",
              "subtask_a       0\n",
              "subtask_b    8771\n",
              "subtask_c    9295\n",
              "dtype: int64"
            ]
          },
          "metadata": {},
          "execution_count": 15
        }
      ]
    },
    {
      "cell_type": "markdown",
      "source": [
        "**Check id's:**"
      ],
      "metadata": {
        "id": "Xqc1zRkjPywB"
      }
    },
    {
      "cell_type": "code",
      "source": [
        "# check for invalid id's\n",
        "\n",
        "present_null = data['id'].isnull().values.any()\n",
        "print(\"Are there NULL/NaN id's?\", present_null)\n",
        "\n",
        "if present_null:\n",
        "  print(\"The number of NULL/NaN's is:\", data['id'].isnull().sum())"
      ],
      "metadata": {
        "colab": {
          "base_uri": "https://localhost:8080/"
        },
        "id": "oE0KiF_PNGYI",
        "outputId": "4c585f6f-250e-4766-8a80-34efd1aa8b02"
      },
      "execution_count": null,
      "outputs": [
        {
          "output_type": "stream",
          "name": "stdout",
          "text": [
            "Are there NULL/NaN id's? False\n"
          ]
        }
      ]
    },
    {
      "cell_type": "markdown",
      "source": [
        "**Subtask A:**"
      ],
      "metadata": {
        "id": "2TqoLs3qP05j"
      }
    },
    {
      "cell_type": "code",
      "source": [
        "data_a = data[['id', 'tweet', 'subtask_a']]\n",
        "data_a = data_a.dropna()\n",
        "data_a = data_a.drop(columns = 'id')\n",
        "\n",
        "data_a"
      ],
      "metadata": {
        "colab": {
          "base_uri": "https://localhost:8080/",
          "height": 423
        },
        "id": "KT4EhjvHONY4",
        "outputId": "bcaa2e84-2f2c-41fe-901c-1fcf9516cea8"
      },
      "execution_count": null,
      "outputs": [
        {
          "output_type": "execute_result",
          "data": {
            "text/html": [
              "\n",
              "  <div id=\"df-ceeea503-4826-4c5a-ab4f-4731b6bdc7ee\">\n",
              "    <div class=\"colab-df-container\">\n",
              "      <div>\n",
              "<style scoped>\n",
              "    .dataframe tbody tr th:only-of-type {\n",
              "        vertical-align: middle;\n",
              "    }\n",
              "\n",
              "    .dataframe tbody tr th {\n",
              "        vertical-align: top;\n",
              "    }\n",
              "\n",
              "    .dataframe thead th {\n",
              "        text-align: right;\n",
              "    }\n",
              "</style>\n",
              "<table border=\"1\" class=\"dataframe\">\n",
              "  <thead>\n",
              "    <tr style=\"text-align: right;\">\n",
              "      <th></th>\n",
              "      <th>tweet</th>\n",
              "      <th>subtask_a</th>\n",
              "    </tr>\n",
              "  </thead>\n",
              "  <tbody>\n",
              "    <tr>\n",
              "      <th>0</th>\n",
              "      <td>ask nativ american take</td>\n",
              "      <td>1</td>\n",
              "    </tr>\n",
              "    <tr>\n",
              "      <th>1</th>\n",
              "      <td>go home drunk url</td>\n",
              "      <td>1</td>\n",
              "    </tr>\n",
              "    <tr>\n",
              "      <th>2</th>\n",
              "      <td>amazon investig chines employe sell intern dat...</td>\n",
              "      <td>0</td>\n",
              "    </tr>\n",
              "    <tr>\n",
              "      <th>3</th>\n",
              "      <td>someon havetaken piec shit volcano</td>\n",
              "      <td>1</td>\n",
              "    </tr>\n",
              "    <tr>\n",
              "      <th>4</th>\n",
              "      <td>obama want liber amp illeg move red state</td>\n",
              "      <td>0</td>\n",
              "    </tr>\n",
              "    <tr>\n",
              "      <th>...</th>\n",
              "      <td>...</td>\n",
              "      <td>...</td>\n",
              "    </tr>\n",
              "    <tr>\n",
              "      <th>13235</th>\n",
              "      <td>sometim get strong vibe peopl man vibe ten mil...</td>\n",
              "      <td>1</td>\n",
              "    </tr>\n",
              "    <tr>\n",
              "      <th>13236</th>\n",
              "      <td>benidorm creamfield maga shabbi summer</td>\n",
              "      <td>0</td>\n",
              "    </tr>\n",
              "    <tr>\n",
              "      <th>13237</th>\n",
              "      <td>report garbag give crap</td>\n",
              "      <td>1</td>\n",
              "    </tr>\n",
              "    <tr>\n",
              "      <th>13238</th>\n",
              "      <td>pussi</td>\n",
              "      <td>1</td>\n",
              "    </tr>\n",
              "    <tr>\n",
              "      <th>13239</th>\n",
              "      <td>vs url</td>\n",
              "      <td>0</td>\n",
              "    </tr>\n",
              "  </tbody>\n",
              "</table>\n",
              "<p>13166 rows × 2 columns</p>\n",
              "</div>\n",
              "      <button class=\"colab-df-convert\" onclick=\"convertToInteractive('df-ceeea503-4826-4c5a-ab4f-4731b6bdc7ee')\"\n",
              "              title=\"Convert this dataframe to an interactive table.\"\n",
              "              style=\"display:none;\">\n",
              "        \n",
              "  <svg xmlns=\"http://www.w3.org/2000/svg\" height=\"24px\"viewBox=\"0 0 24 24\"\n",
              "       width=\"24px\">\n",
              "    <path d=\"M0 0h24v24H0V0z\" fill=\"none\"/>\n",
              "    <path d=\"M18.56 5.44l.94 2.06.94-2.06 2.06-.94-2.06-.94-.94-2.06-.94 2.06-2.06.94zm-11 1L8.5 8.5l.94-2.06 2.06-.94-2.06-.94L8.5 2.5l-.94 2.06-2.06.94zm10 10l.94 2.06.94-2.06 2.06-.94-2.06-.94-.94-2.06-.94 2.06-2.06.94z\"/><path d=\"M17.41 7.96l-1.37-1.37c-.4-.4-.92-.59-1.43-.59-.52 0-1.04.2-1.43.59L10.3 9.45l-7.72 7.72c-.78.78-.78 2.05 0 2.83L4 21.41c.39.39.9.59 1.41.59.51 0 1.02-.2 1.41-.59l7.78-7.78 2.81-2.81c.8-.78.8-2.07 0-2.86zM5.41 20L4 18.59l7.72-7.72 1.47 1.35L5.41 20z\"/>\n",
              "  </svg>\n",
              "      </button>\n",
              "      \n",
              "  <style>\n",
              "    .colab-df-container {\n",
              "      display:flex;\n",
              "      flex-wrap:wrap;\n",
              "      gap: 12px;\n",
              "    }\n",
              "\n",
              "    .colab-df-convert {\n",
              "      background-color: #E8F0FE;\n",
              "      border: none;\n",
              "      border-radius: 50%;\n",
              "      cursor: pointer;\n",
              "      display: none;\n",
              "      fill: #1967D2;\n",
              "      height: 32px;\n",
              "      padding: 0 0 0 0;\n",
              "      width: 32px;\n",
              "    }\n",
              "\n",
              "    .colab-df-convert:hover {\n",
              "      background-color: #E2EBFA;\n",
              "      box-shadow: 0px 1px 2px rgba(60, 64, 67, 0.3), 0px 1px 3px 1px rgba(60, 64, 67, 0.15);\n",
              "      fill: #174EA6;\n",
              "    }\n",
              "\n",
              "    [theme=dark] .colab-df-convert {\n",
              "      background-color: #3B4455;\n",
              "      fill: #D2E3FC;\n",
              "    }\n",
              "\n",
              "    [theme=dark] .colab-df-convert:hover {\n",
              "      background-color: #434B5C;\n",
              "      box-shadow: 0px 1px 3px 1px rgba(0, 0, 0, 0.15);\n",
              "      filter: drop-shadow(0px 1px 2px rgba(0, 0, 0, 0.3));\n",
              "      fill: #FFFFFF;\n",
              "    }\n",
              "  </style>\n",
              "\n",
              "      <script>\n",
              "        const buttonEl =\n",
              "          document.querySelector('#df-ceeea503-4826-4c5a-ab4f-4731b6bdc7ee button.colab-df-convert');\n",
              "        buttonEl.style.display =\n",
              "          google.colab.kernel.accessAllowed ? 'block' : 'none';\n",
              "\n",
              "        async function convertToInteractive(key) {\n",
              "          const element = document.querySelector('#df-ceeea503-4826-4c5a-ab4f-4731b6bdc7ee');\n",
              "          const dataTable =\n",
              "            await google.colab.kernel.invokeFunction('convertToInteractive',\n",
              "                                                     [key], {});\n",
              "          if (!dataTable) return;\n",
              "\n",
              "          const docLinkHtml = 'Like what you see? Visit the ' +\n",
              "            '<a target=\"_blank\" href=https://colab.research.google.com/notebooks/data_table.ipynb>data table notebook</a>'\n",
              "            + ' to learn more about interactive tables.';\n",
              "          element.innerHTML = '';\n",
              "          dataTable['output_type'] = 'display_data';\n",
              "          await google.colab.output.renderOutput(dataTable, element);\n",
              "          const docLink = document.createElement('div');\n",
              "          docLink.innerHTML = docLinkHtml;\n",
              "          element.appendChild(docLink);\n",
              "        }\n",
              "      </script>\n",
              "    </div>\n",
              "  </div>\n",
              "  "
            ],
            "text/plain": [
              "                                                   tweet  subtask_a\n",
              "0                                ask nativ american take          1\n",
              "1                                      go home drunk url          1\n",
              "2      amazon investig chines employe sell intern dat...          0\n",
              "3                     someon havetaken piec shit volcano          1\n",
              "4              obama want liber amp illeg move red state          0\n",
              "...                                                  ...        ...\n",
              "13235  sometim get strong vibe peopl man vibe ten mil...          1\n",
              "13236             benidorm creamfield maga shabbi summer          0\n",
              "13237                            report garbag give crap          1\n",
              "13238                                              pussi          1\n",
              "13239                                             vs url          0\n",
              "\n",
              "[13166 rows x 2 columns]"
            ]
          },
          "metadata": {},
          "execution_count": 17
        }
      ]
    },
    {
      "cell_type": "code",
      "source": [
        "data[data['subtask_a'] == 1]"
      ],
      "metadata": {
        "colab": {
          "base_uri": "https://localhost:8080/",
          "height": 423
        },
        "id": "nvX8p2e4e27o",
        "outputId": "ba5b1a14-35d9-4d35-af6e-ec0615de9a64"
      },
      "execution_count": null,
      "outputs": [
        {
          "output_type": "execute_result",
          "data": {
            "text/html": [
              "\n",
              "  <div id=\"df-73bd28b5-792b-4ab9-9a1d-99a46385b291\">\n",
              "    <div class=\"colab-df-container\">\n",
              "      <div>\n",
              "<style scoped>\n",
              "    .dataframe tbody tr th:only-of-type {\n",
              "        vertical-align: middle;\n",
              "    }\n",
              "\n",
              "    .dataframe tbody tr th {\n",
              "        vertical-align: top;\n",
              "    }\n",
              "\n",
              "    .dataframe thead th {\n",
              "        text-align: right;\n",
              "    }\n",
              "</style>\n",
              "<table border=\"1\" class=\"dataframe\">\n",
              "  <thead>\n",
              "    <tr style=\"text-align: right;\">\n",
              "      <th></th>\n",
              "      <th>id</th>\n",
              "      <th>tweet</th>\n",
              "      <th>subtask_a</th>\n",
              "      <th>subtask_b</th>\n",
              "      <th>subtask_c</th>\n",
              "    </tr>\n",
              "  </thead>\n",
              "  <tbody>\n",
              "    <tr>\n",
              "      <th>0</th>\n",
              "      <td>86426</td>\n",
              "      <td>ask nativ american take</td>\n",
              "      <td>1</td>\n",
              "      <td>0.0</td>\n",
              "      <td>NaN</td>\n",
              "    </tr>\n",
              "    <tr>\n",
              "      <th>1</th>\n",
              "      <td>90194</td>\n",
              "      <td>go home drunk url</td>\n",
              "      <td>1</td>\n",
              "      <td>1.0</td>\n",
              "      <td>0.0</td>\n",
              "    </tr>\n",
              "    <tr>\n",
              "      <th>3</th>\n",
              "      <td>62688</td>\n",
              "      <td>someon havetaken piec shit volcano</td>\n",
              "      <td>1</td>\n",
              "      <td>0.0</td>\n",
              "      <td>NaN</td>\n",
              "    </tr>\n",
              "    <tr>\n",
              "      <th>5</th>\n",
              "      <td>97670</td>\n",
              "      <td>liber kookoo</td>\n",
              "      <td>1</td>\n",
              "      <td>1.0</td>\n",
              "      <td>2.0</td>\n",
              "    </tr>\n",
              "    <tr>\n",
              "      <th>6</th>\n",
              "      <td>77444</td>\n",
              "      <td>oh noe tough shit</td>\n",
              "      <td>1</td>\n",
              "      <td>0.0</td>\n",
              "      <td>NaN</td>\n",
              "    </tr>\n",
              "    <tr>\n",
              "      <th>...</th>\n",
              "      <td>...</td>\n",
              "      <td>...</td>\n",
              "      <td>...</td>\n",
              "      <td>...</td>\n",
              "      <td>...</td>\n",
              "    </tr>\n",
              "    <tr>\n",
              "      <th>13223</th>\n",
              "      <td>63482</td>\n",
              "      <td>advoc conduct within bound human right terrori...</td>\n",
              "      <td>1</td>\n",
              "      <td>1.0</td>\n",
              "      <td>1.0</td>\n",
              "    </tr>\n",
              "    <tr>\n",
              "      <th>13227</th>\n",
              "      <td>87416</td>\n",
              "      <td>liar like antifa twin vigor defend</td>\n",
              "      <td>1</td>\n",
              "      <td>1.0</td>\n",
              "      <td>1.0</td>\n",
              "    </tr>\n",
              "    <tr>\n",
              "      <th>13235</th>\n",
              "      <td>95338</td>\n",
              "      <td>sometim get strong vibe peopl man vibe ten mil...</td>\n",
              "      <td>1</td>\n",
              "      <td>1.0</td>\n",
              "      <td>0.0</td>\n",
              "    </tr>\n",
              "    <tr>\n",
              "      <th>13237</th>\n",
              "      <td>82921</td>\n",
              "      <td>report garbag give crap</td>\n",
              "      <td>1</td>\n",
              "      <td>1.0</td>\n",
              "      <td>2.0</td>\n",
              "    </tr>\n",
              "    <tr>\n",
              "      <th>13238</th>\n",
              "      <td>27429</td>\n",
              "      <td>pussi</td>\n",
              "      <td>1</td>\n",
              "      <td>0.0</td>\n",
              "      <td>NaN</td>\n",
              "    </tr>\n",
              "  </tbody>\n",
              "</table>\n",
              "<p>4395 rows × 5 columns</p>\n",
              "</div>\n",
              "      <button class=\"colab-df-convert\" onclick=\"convertToInteractive('df-73bd28b5-792b-4ab9-9a1d-99a46385b291')\"\n",
              "              title=\"Convert this dataframe to an interactive table.\"\n",
              "              style=\"display:none;\">\n",
              "        \n",
              "  <svg xmlns=\"http://www.w3.org/2000/svg\" height=\"24px\"viewBox=\"0 0 24 24\"\n",
              "       width=\"24px\">\n",
              "    <path d=\"M0 0h24v24H0V0z\" fill=\"none\"/>\n",
              "    <path d=\"M18.56 5.44l.94 2.06.94-2.06 2.06-.94-2.06-.94-.94-2.06-.94 2.06-2.06.94zm-11 1L8.5 8.5l.94-2.06 2.06-.94-2.06-.94L8.5 2.5l-.94 2.06-2.06.94zm10 10l.94 2.06.94-2.06 2.06-.94-2.06-.94-.94-2.06-.94 2.06-2.06.94z\"/><path d=\"M17.41 7.96l-1.37-1.37c-.4-.4-.92-.59-1.43-.59-.52 0-1.04.2-1.43.59L10.3 9.45l-7.72 7.72c-.78.78-.78 2.05 0 2.83L4 21.41c.39.39.9.59 1.41.59.51 0 1.02-.2 1.41-.59l7.78-7.78 2.81-2.81c.8-.78.8-2.07 0-2.86zM5.41 20L4 18.59l7.72-7.72 1.47 1.35L5.41 20z\"/>\n",
              "  </svg>\n",
              "      </button>\n",
              "      \n",
              "  <style>\n",
              "    .colab-df-container {\n",
              "      display:flex;\n",
              "      flex-wrap:wrap;\n",
              "      gap: 12px;\n",
              "    }\n",
              "\n",
              "    .colab-df-convert {\n",
              "      background-color: #E8F0FE;\n",
              "      border: none;\n",
              "      border-radius: 50%;\n",
              "      cursor: pointer;\n",
              "      display: none;\n",
              "      fill: #1967D2;\n",
              "      height: 32px;\n",
              "      padding: 0 0 0 0;\n",
              "      width: 32px;\n",
              "    }\n",
              "\n",
              "    .colab-df-convert:hover {\n",
              "      background-color: #E2EBFA;\n",
              "      box-shadow: 0px 1px 2px rgba(60, 64, 67, 0.3), 0px 1px 3px 1px rgba(60, 64, 67, 0.15);\n",
              "      fill: #174EA6;\n",
              "    }\n",
              "\n",
              "    [theme=dark] .colab-df-convert {\n",
              "      background-color: #3B4455;\n",
              "      fill: #D2E3FC;\n",
              "    }\n",
              "\n",
              "    [theme=dark] .colab-df-convert:hover {\n",
              "      background-color: #434B5C;\n",
              "      box-shadow: 0px 1px 3px 1px rgba(0, 0, 0, 0.15);\n",
              "      filter: drop-shadow(0px 1px 2px rgba(0, 0, 0, 0.3));\n",
              "      fill: #FFFFFF;\n",
              "    }\n",
              "  </style>\n",
              "\n",
              "      <script>\n",
              "        const buttonEl =\n",
              "          document.querySelector('#df-73bd28b5-792b-4ab9-9a1d-99a46385b291 button.colab-df-convert');\n",
              "        buttonEl.style.display =\n",
              "          google.colab.kernel.accessAllowed ? 'block' : 'none';\n",
              "\n",
              "        async function convertToInteractive(key) {\n",
              "          const element = document.querySelector('#df-73bd28b5-792b-4ab9-9a1d-99a46385b291');\n",
              "          const dataTable =\n",
              "            await google.colab.kernel.invokeFunction('convertToInteractive',\n",
              "                                                     [key], {});\n",
              "          if (!dataTable) return;\n",
              "\n",
              "          const docLinkHtml = 'Like what you see? Visit the ' +\n",
              "            '<a target=\"_blank\" href=https://colab.research.google.com/notebooks/data_table.ipynb>data table notebook</a>'\n",
              "            + ' to learn more about interactive tables.';\n",
              "          element.innerHTML = '';\n",
              "          dataTable['output_type'] = 'display_data';\n",
              "          await google.colab.output.renderOutput(dataTable, element);\n",
              "          const docLink = document.createElement('div');\n",
              "          docLink.innerHTML = docLinkHtml;\n",
              "          element.appendChild(docLink);\n",
              "        }\n",
              "      </script>\n",
              "    </div>\n",
              "  </div>\n",
              "  "
            ],
            "text/plain": [
              "          id  ... subtask_c\n",
              "0      86426  ...       NaN\n",
              "1      90194  ...       0.0\n",
              "3      62688  ...       NaN\n",
              "5      97670  ...       2.0\n",
              "6      77444  ...       NaN\n",
              "...      ...  ...       ...\n",
              "13223  63482  ...       1.0\n",
              "13227  87416  ...       1.0\n",
              "13235  95338  ...       0.0\n",
              "13237  82921  ...       2.0\n",
              "13238  27429  ...       NaN\n",
              "\n",
              "[4395 rows x 5 columns]"
            ]
          },
          "metadata": {},
          "execution_count": 18
        }
      ]
    },
    {
      "cell_type": "markdown",
      "source": [
        "**Subtask B:**"
      ],
      "metadata": {
        "id": "mv4q1jtmP9jC"
      }
    },
    {
      "cell_type": "code",
      "source": [
        "data_b = data[['id', 'tweet', 'subtask_b']]\n",
        "data_b = data_b.dropna()\n",
        "data_b = data_b.drop(columns = 'id')\n",
        "\n",
        "data_b"
      ],
      "metadata": {
        "colab": {
          "base_uri": "https://localhost:8080/",
          "height": 423
        },
        "id": "iM54XvrkP7PB",
        "outputId": "234956a3-bb0c-4290-daf9-6e44f3d5dfa3"
      },
      "execution_count": null,
      "outputs": [
        {
          "output_type": "execute_result",
          "data": {
            "text/html": [
              "\n",
              "  <div id=\"df-926f5b07-382f-4e12-8ac6-f70c1bc7b293\">\n",
              "    <div class=\"colab-df-container\">\n",
              "      <div>\n",
              "<style scoped>\n",
              "    .dataframe tbody tr th:only-of-type {\n",
              "        vertical-align: middle;\n",
              "    }\n",
              "\n",
              "    .dataframe tbody tr th {\n",
              "        vertical-align: top;\n",
              "    }\n",
              "\n",
              "    .dataframe thead th {\n",
              "        text-align: right;\n",
              "    }\n",
              "</style>\n",
              "<table border=\"1\" class=\"dataframe\">\n",
              "  <thead>\n",
              "    <tr style=\"text-align: right;\">\n",
              "      <th></th>\n",
              "      <th>tweet</th>\n",
              "      <th>subtask_b</th>\n",
              "    </tr>\n",
              "  </thead>\n",
              "  <tbody>\n",
              "    <tr>\n",
              "      <th>0</th>\n",
              "      <td>ask nativ american take</td>\n",
              "      <td>0.0</td>\n",
              "    </tr>\n",
              "    <tr>\n",
              "      <th>1</th>\n",
              "      <td>go home drunk url</td>\n",
              "      <td>1.0</td>\n",
              "    </tr>\n",
              "    <tr>\n",
              "      <th>3</th>\n",
              "      <td>someon havetaken piec shit volcano</td>\n",
              "      <td>0.0</td>\n",
              "    </tr>\n",
              "    <tr>\n",
              "      <th>5</th>\n",
              "      <td>liber kookoo</td>\n",
              "      <td>1.0</td>\n",
              "    </tr>\n",
              "    <tr>\n",
              "      <th>6</th>\n",
              "      <td>oh noe tough shit</td>\n",
              "      <td>0.0</td>\n",
              "    </tr>\n",
              "    <tr>\n",
              "      <th>...</th>\n",
              "      <td>...</td>\n",
              "      <td>...</td>\n",
              "    </tr>\n",
              "    <tr>\n",
              "      <th>13223</th>\n",
              "      <td>advoc conduct within bound human right terrori...</td>\n",
              "      <td>1.0</td>\n",
              "    </tr>\n",
              "    <tr>\n",
              "      <th>13227</th>\n",
              "      <td>liar like antifa twin vigor defend</td>\n",
              "      <td>1.0</td>\n",
              "    </tr>\n",
              "    <tr>\n",
              "      <th>13235</th>\n",
              "      <td>sometim get strong vibe peopl man vibe ten mil...</td>\n",
              "      <td>1.0</td>\n",
              "    </tr>\n",
              "    <tr>\n",
              "      <th>13237</th>\n",
              "      <td>report garbag give crap</td>\n",
              "      <td>1.0</td>\n",
              "    </tr>\n",
              "    <tr>\n",
              "      <th>13238</th>\n",
              "      <td>pussi</td>\n",
              "      <td>0.0</td>\n",
              "    </tr>\n",
              "  </tbody>\n",
              "</table>\n",
              "<p>4395 rows × 2 columns</p>\n",
              "</div>\n",
              "      <button class=\"colab-df-convert\" onclick=\"convertToInteractive('df-926f5b07-382f-4e12-8ac6-f70c1bc7b293')\"\n",
              "              title=\"Convert this dataframe to an interactive table.\"\n",
              "              style=\"display:none;\">\n",
              "        \n",
              "  <svg xmlns=\"http://www.w3.org/2000/svg\" height=\"24px\"viewBox=\"0 0 24 24\"\n",
              "       width=\"24px\">\n",
              "    <path d=\"M0 0h24v24H0V0z\" fill=\"none\"/>\n",
              "    <path d=\"M18.56 5.44l.94 2.06.94-2.06 2.06-.94-2.06-.94-.94-2.06-.94 2.06-2.06.94zm-11 1L8.5 8.5l.94-2.06 2.06-.94-2.06-.94L8.5 2.5l-.94 2.06-2.06.94zm10 10l.94 2.06.94-2.06 2.06-.94-2.06-.94-.94-2.06-.94 2.06-2.06.94z\"/><path d=\"M17.41 7.96l-1.37-1.37c-.4-.4-.92-.59-1.43-.59-.52 0-1.04.2-1.43.59L10.3 9.45l-7.72 7.72c-.78.78-.78 2.05 0 2.83L4 21.41c.39.39.9.59 1.41.59.51 0 1.02-.2 1.41-.59l7.78-7.78 2.81-2.81c.8-.78.8-2.07 0-2.86zM5.41 20L4 18.59l7.72-7.72 1.47 1.35L5.41 20z\"/>\n",
              "  </svg>\n",
              "      </button>\n",
              "      \n",
              "  <style>\n",
              "    .colab-df-container {\n",
              "      display:flex;\n",
              "      flex-wrap:wrap;\n",
              "      gap: 12px;\n",
              "    }\n",
              "\n",
              "    .colab-df-convert {\n",
              "      background-color: #E8F0FE;\n",
              "      border: none;\n",
              "      border-radius: 50%;\n",
              "      cursor: pointer;\n",
              "      display: none;\n",
              "      fill: #1967D2;\n",
              "      height: 32px;\n",
              "      padding: 0 0 0 0;\n",
              "      width: 32px;\n",
              "    }\n",
              "\n",
              "    .colab-df-convert:hover {\n",
              "      background-color: #E2EBFA;\n",
              "      box-shadow: 0px 1px 2px rgba(60, 64, 67, 0.3), 0px 1px 3px 1px rgba(60, 64, 67, 0.15);\n",
              "      fill: #174EA6;\n",
              "    }\n",
              "\n",
              "    [theme=dark] .colab-df-convert {\n",
              "      background-color: #3B4455;\n",
              "      fill: #D2E3FC;\n",
              "    }\n",
              "\n",
              "    [theme=dark] .colab-df-convert:hover {\n",
              "      background-color: #434B5C;\n",
              "      box-shadow: 0px 1px 3px 1px rgba(0, 0, 0, 0.15);\n",
              "      filter: drop-shadow(0px 1px 2px rgba(0, 0, 0, 0.3));\n",
              "      fill: #FFFFFF;\n",
              "    }\n",
              "  </style>\n",
              "\n",
              "      <script>\n",
              "        const buttonEl =\n",
              "          document.querySelector('#df-926f5b07-382f-4e12-8ac6-f70c1bc7b293 button.colab-df-convert');\n",
              "        buttonEl.style.display =\n",
              "          google.colab.kernel.accessAllowed ? 'block' : 'none';\n",
              "\n",
              "        async function convertToInteractive(key) {\n",
              "          const element = document.querySelector('#df-926f5b07-382f-4e12-8ac6-f70c1bc7b293');\n",
              "          const dataTable =\n",
              "            await google.colab.kernel.invokeFunction('convertToInteractive',\n",
              "                                                     [key], {});\n",
              "          if (!dataTable) return;\n",
              "\n",
              "          const docLinkHtml = 'Like what you see? Visit the ' +\n",
              "            '<a target=\"_blank\" href=https://colab.research.google.com/notebooks/data_table.ipynb>data table notebook</a>'\n",
              "            + ' to learn more about interactive tables.';\n",
              "          element.innerHTML = '';\n",
              "          dataTable['output_type'] = 'display_data';\n",
              "          await google.colab.output.renderOutput(dataTable, element);\n",
              "          const docLink = document.createElement('div');\n",
              "          docLink.innerHTML = docLinkHtml;\n",
              "          element.appendChild(docLink);\n",
              "        }\n",
              "      </script>\n",
              "    </div>\n",
              "  </div>\n",
              "  "
            ],
            "text/plain": [
              "                                                   tweet  subtask_b\n",
              "0                                ask nativ american take        0.0\n",
              "1                                      go home drunk url        1.0\n",
              "3                     someon havetaken piec shit volcano        0.0\n",
              "5                                           liber kookoo        1.0\n",
              "6                                      oh noe tough shit        0.0\n",
              "...                                                  ...        ...\n",
              "13223  advoc conduct within bound human right terrori...        1.0\n",
              "13227                 liar like antifa twin vigor defend        1.0\n",
              "13235  sometim get strong vibe peopl man vibe ten mil...        1.0\n",
              "13237                            report garbag give crap        1.0\n",
              "13238                                              pussi        0.0\n",
              "\n",
              "[4395 rows x 2 columns]"
            ]
          },
          "metadata": {},
          "execution_count": 19
        }
      ]
    },
    {
      "cell_type": "code",
      "source": [
        "# Check for pairs (subtask_a, subtask_b) == (1, NaN)\n",
        "# df = data[data['subtask_b'] == np.nan]\n",
        "# df[df['subtask_a'] == 1]\n",
        "\n",
        "# Given the fact that we have NaN's in the subtask_b column and there are no \n",
        "# (subtask_a, subtask_b) == (1, NaN) pairs, we classified them as label '0',\n",
        "# since every unoffensive tweet could also be untargetable \n",
        "data['subtask_b'] = data['subtask_b'].replace(np.nan, int(0))"
      ],
      "metadata": {
        "id": "ZwkI3NiPssxW"
      },
      "execution_count": null,
      "outputs": []
    },
    {
      "cell_type": "markdown",
      "source": [
        "**Subtask C:**"
      ],
      "metadata": {
        "id": "g-qNzZB6P-Vk"
      }
    },
    {
      "cell_type": "code",
      "source": [
        "data_c = data[['id', 'tweet', 'subtask_c']]\n",
        "data_c = data_c.dropna()\n",
        "data_c = data_c.drop(columns = 'id')\n",
        "\n",
        "data_c"
      ],
      "metadata": {
        "colab": {
          "base_uri": "https://localhost:8080/",
          "height": 423
        },
        "id": "ESbcLB0mP7rg",
        "outputId": "e8a5bd1c-0a97-484b-a238-66198c486666"
      },
      "execution_count": null,
      "outputs": [
        {
          "output_type": "execute_result",
          "data": {
            "text/html": [
              "\n",
              "  <div id=\"df-8ebac5b8-4de8-4946-96c9-90220542a02b\">\n",
              "    <div class=\"colab-df-container\">\n",
              "      <div>\n",
              "<style scoped>\n",
              "    .dataframe tbody tr th:only-of-type {\n",
              "        vertical-align: middle;\n",
              "    }\n",
              "\n",
              "    .dataframe tbody tr th {\n",
              "        vertical-align: top;\n",
              "    }\n",
              "\n",
              "    .dataframe thead th {\n",
              "        text-align: right;\n",
              "    }\n",
              "</style>\n",
              "<table border=\"1\" class=\"dataframe\">\n",
              "  <thead>\n",
              "    <tr style=\"text-align: right;\">\n",
              "      <th></th>\n",
              "      <th>tweet</th>\n",
              "      <th>subtask_c</th>\n",
              "    </tr>\n",
              "  </thead>\n",
              "  <tbody>\n",
              "    <tr>\n",
              "      <th>1</th>\n",
              "      <td>go home drunk url</td>\n",
              "      <td>0.0</td>\n",
              "    </tr>\n",
              "    <tr>\n",
              "      <th>5</th>\n",
              "      <td>liber kookoo</td>\n",
              "      <td>2.0</td>\n",
              "    </tr>\n",
              "    <tr>\n",
              "      <th>7</th>\n",
              "      <td>liter talk lol mass shoot like set up propagan...</td>\n",
              "      <td>1.0</td>\n",
              "    </tr>\n",
              "    <tr>\n",
              "      <th>9</th>\n",
              "      <td>canada need anoth cuck alreadi enough fking gr...</td>\n",
              "      <td>0.0</td>\n",
              "    </tr>\n",
              "    <tr>\n",
              "      <th>12</th>\n",
              "      <td>lie corrupt traitor nobodi want hear anymor li...</td>\n",
              "      <td>0.0</td>\n",
              "    </tr>\n",
              "    <tr>\n",
              "      <th>...</th>\n",
              "      <td>...</td>\n",
              "      <td>...</td>\n",
              "    </tr>\n",
              "    <tr>\n",
              "      <th>13212</th>\n",
              "      <td>everyth els ten year ago liar total bs propaga...</td>\n",
              "      <td>0.0</td>\n",
              "    </tr>\n",
              "    <tr>\n",
              "      <th>13223</th>\n",
              "      <td>advoc conduct within bound human right terrori...</td>\n",
              "      <td>1.0</td>\n",
              "    </tr>\n",
              "    <tr>\n",
              "      <th>13227</th>\n",
              "      <td>liar like antifa twin vigor defend</td>\n",
              "      <td>1.0</td>\n",
              "    </tr>\n",
              "    <tr>\n",
              "      <th>13235</th>\n",
              "      <td>sometim get strong vibe peopl man vibe ten mil...</td>\n",
              "      <td>0.0</td>\n",
              "    </tr>\n",
              "    <tr>\n",
              "      <th>13237</th>\n",
              "      <td>report garbag give crap</td>\n",
              "      <td>2.0</td>\n",
              "    </tr>\n",
              "  </tbody>\n",
              "</table>\n",
              "<p>3871 rows × 2 columns</p>\n",
              "</div>\n",
              "      <button class=\"colab-df-convert\" onclick=\"convertToInteractive('df-8ebac5b8-4de8-4946-96c9-90220542a02b')\"\n",
              "              title=\"Convert this dataframe to an interactive table.\"\n",
              "              style=\"display:none;\">\n",
              "        \n",
              "  <svg xmlns=\"http://www.w3.org/2000/svg\" height=\"24px\"viewBox=\"0 0 24 24\"\n",
              "       width=\"24px\">\n",
              "    <path d=\"M0 0h24v24H0V0z\" fill=\"none\"/>\n",
              "    <path d=\"M18.56 5.44l.94 2.06.94-2.06 2.06-.94-2.06-.94-.94-2.06-.94 2.06-2.06.94zm-11 1L8.5 8.5l.94-2.06 2.06-.94-2.06-.94L8.5 2.5l-.94 2.06-2.06.94zm10 10l.94 2.06.94-2.06 2.06-.94-2.06-.94-.94-2.06-.94 2.06-2.06.94z\"/><path d=\"M17.41 7.96l-1.37-1.37c-.4-.4-.92-.59-1.43-.59-.52 0-1.04.2-1.43.59L10.3 9.45l-7.72 7.72c-.78.78-.78 2.05 0 2.83L4 21.41c.39.39.9.59 1.41.59.51 0 1.02-.2 1.41-.59l7.78-7.78 2.81-2.81c.8-.78.8-2.07 0-2.86zM5.41 20L4 18.59l7.72-7.72 1.47 1.35L5.41 20z\"/>\n",
              "  </svg>\n",
              "      </button>\n",
              "      \n",
              "  <style>\n",
              "    .colab-df-container {\n",
              "      display:flex;\n",
              "      flex-wrap:wrap;\n",
              "      gap: 12px;\n",
              "    }\n",
              "\n",
              "    .colab-df-convert {\n",
              "      background-color: #E8F0FE;\n",
              "      border: none;\n",
              "      border-radius: 50%;\n",
              "      cursor: pointer;\n",
              "      display: none;\n",
              "      fill: #1967D2;\n",
              "      height: 32px;\n",
              "      padding: 0 0 0 0;\n",
              "      width: 32px;\n",
              "    }\n",
              "\n",
              "    .colab-df-convert:hover {\n",
              "      background-color: #E2EBFA;\n",
              "      box-shadow: 0px 1px 2px rgba(60, 64, 67, 0.3), 0px 1px 3px 1px rgba(60, 64, 67, 0.15);\n",
              "      fill: #174EA6;\n",
              "    }\n",
              "\n",
              "    [theme=dark] .colab-df-convert {\n",
              "      background-color: #3B4455;\n",
              "      fill: #D2E3FC;\n",
              "    }\n",
              "\n",
              "    [theme=dark] .colab-df-convert:hover {\n",
              "      background-color: #434B5C;\n",
              "      box-shadow: 0px 1px 3px 1px rgba(0, 0, 0, 0.15);\n",
              "      filter: drop-shadow(0px 1px 2px rgba(0, 0, 0, 0.3));\n",
              "      fill: #FFFFFF;\n",
              "    }\n",
              "  </style>\n",
              "\n",
              "      <script>\n",
              "        const buttonEl =\n",
              "          document.querySelector('#df-8ebac5b8-4de8-4946-96c9-90220542a02b button.colab-df-convert');\n",
              "        buttonEl.style.display =\n",
              "          google.colab.kernel.accessAllowed ? 'block' : 'none';\n",
              "\n",
              "        async function convertToInteractive(key) {\n",
              "          const element = document.querySelector('#df-8ebac5b8-4de8-4946-96c9-90220542a02b');\n",
              "          const dataTable =\n",
              "            await google.colab.kernel.invokeFunction('convertToInteractive',\n",
              "                                                     [key], {});\n",
              "          if (!dataTable) return;\n",
              "\n",
              "          const docLinkHtml = 'Like what you see? Visit the ' +\n",
              "            '<a target=\"_blank\" href=https://colab.research.google.com/notebooks/data_table.ipynb>data table notebook</a>'\n",
              "            + ' to learn more about interactive tables.';\n",
              "          element.innerHTML = '';\n",
              "          dataTable['output_type'] = 'display_data';\n",
              "          await google.colab.output.renderOutput(dataTable, element);\n",
              "          const docLink = document.createElement('div');\n",
              "          docLink.innerHTML = docLinkHtml;\n",
              "          element.appendChild(docLink);\n",
              "        }\n",
              "      </script>\n",
              "    </div>\n",
              "  </div>\n",
              "  "
            ],
            "text/plain": [
              "                                                   tweet  subtask_c\n",
              "1                                      go home drunk url        0.0\n",
              "5                                           liber kookoo        2.0\n",
              "7      liter talk lol mass shoot like set up propagan...        1.0\n",
              "9      canada need anoth cuck alreadi enough fking gr...        0.0\n",
              "12     lie corrupt traitor nobodi want hear anymor li...        0.0\n",
              "...                                                  ...        ...\n",
              "13212  everyth els ten year ago liar total bs propaga...        0.0\n",
              "13223  advoc conduct within bound human right terrori...        1.0\n",
              "13227                 liar like antifa twin vigor defend        1.0\n",
              "13235  sometim get strong vibe peopl man vibe ten mil...        0.0\n",
              "13237                            report garbag give crap        2.0\n",
              "\n",
              "[3871 rows x 2 columns]"
            ]
          },
          "metadata": {},
          "execution_count": 21
        }
      ]
    },
    {
      "cell_type": "markdown",
      "source": [
        "**Exploring some aspects of the data:**"
      ],
      "metadata": {
        "id": "9QOy8EPCPK1R"
      }
    },
    {
      "cell_type": "code",
      "source": [
        "# check label distribution\n",
        "sns.countplot(x = \"subtask_a\", data = data_a, palette = \"Set1\")\n",
        "plt.title(\"Count of each particular label\")"
      ],
      "metadata": {
        "colab": {
          "base_uri": "https://localhost:8080/",
          "height": 314
        },
        "id": "IYnWyf4sPSIR",
        "outputId": "4a949538-0b49-4641-b5a2-ffaae6e35c1d"
      },
      "execution_count": null,
      "outputs": [
        {
          "output_type": "execute_result",
          "data": {
            "text/plain": [
              "Text(0.5, 1.0, 'Count of each particular label')"
            ]
          },
          "metadata": {},
          "execution_count": 22
        },
        {
          "output_type": "display_data",
          "data": {
            "image/png": "[encoded data removed]",
            "text/plain": [
              "<Figure size 432x288 with 1 Axes>"
            ]
          },
          "metadata": {
            "needs_background": "light"
          }
        }
      ]
    },
    {
      "cell_type": "code",
      "source": [
        "# check label distribution\n",
        "sns.countplot(x = \"subtask_b\", data = data_b, palette = \"Set1\")\n",
        "plt.title(\"Count of each particular label\")"
      ],
      "metadata": {
        "colab": {
          "base_uri": "https://localhost:8080/",
          "height": 314
        },
        "id": "SIF6PSj_P4d1",
        "outputId": "77134a48-ab2e-4278-ff44-2a45fd85c670"
      },
      "execution_count": null,
      "outputs": [
        {
          "output_type": "execute_result",
          "data": {
            "text/plain": [
              "Text(0.5, 1.0, 'Count of each particular label')"
            ]
          },
          "metadata": {},
          "execution_count": 23
        },
        {
          "output_type": "display_data",
          "data": {
            "image/png": "[encoded data removed]",
            "text/plain": [
              "<Figure size 432x288 with 1 Axes>"
            ]
          },
          "metadata": {
            "needs_background": "light"
          }
        }
      ]
    },
    {
      "cell_type": "code",
      "source": [
        "# check label distribution\n",
        "sns.countplot(x = \"subtask_c\", data = data_c, palette = \"Set1\")\n",
        "plt.title(\"Count of each particular label\")"
      ],
      "metadata": {
        "colab": {
          "base_uri": "https://localhost:8080/",
          "height": 314
        },
        "id": "vlvP0FDbP4uG",
        "outputId": "bc8bc40e-62ab-4ae2-abb4-54fa2008497e"
      },
      "execution_count": null,
      "outputs": [
        {
          "output_type": "execute_result",
          "data": {
            "text/plain": [
              "Text(0.5, 1.0, 'Count of each particular label')"
            ]
          },
          "metadata": {},
          "execution_count": 24
        },
        {
          "output_type": "display_data",
          "data": {
            "image/png": "[encoded data removed]",
            "text/plain": [
              "<Figure size 432x288 with 1 Axes>"
            ]
          },
          "metadata": {
            "needs_background": "light"
          }
        }
      ]
    },
    {
      "cell_type": "code",
      "source": [
        "# check length distribution\n",
        "tweets.str.len().hist()\n",
        "plt.title(\"Tweets lengths ditribution\")"
      ],
      "metadata": {
        "colab": {
          "base_uri": "https://localhost:8080/",
          "height": 300
        },
        "id": "toMbHOegQtIn",
        "outputId": "467968c2-2147-4233-e659-e8bb2a8304fa"
      },
      "execution_count": null,
      "outputs": [
        {
          "output_type": "execute_result",
          "data": {
            "text/plain": [
              "Text(0.5, 1.0, 'Tweets lengths ditribution')"
            ]
          },
          "metadata": {},
          "execution_count": 25
        },
        {
          "output_type": "display_data",
          "data": {
            "image/png": "[encoded data removed]",
            "text/plain": [
              "<Figure size 432x288 with 1 Axes>"
            ]
          },
          "metadata": {
            "needs_background": "light"
          }
        }
      ]
    },
    {
      "cell_type": "code",
      "source": [
        "# check length distribution\n",
        "data['tweet'].str.len().hist()\n",
        "plt.title(\"Pre-processed tweets lengths ditribution\")"
      ],
      "metadata": {
        "colab": {
          "base_uri": "https://localhost:8080/",
          "height": 300
        },
        "id": "SePC5VKYQODD",
        "outputId": "44fb0504-fce6-4feb-91e1-ebc1af74967a"
      },
      "execution_count": null,
      "outputs": [
        {
          "output_type": "execute_result",
          "data": {
            "text/plain": [
              "Text(0.5, 1.0, 'Pre-processed tweets lengths ditribution')"
            ]
          },
          "metadata": {},
          "execution_count": 26
        },
        {
          "output_type": "display_data",
          "data": {
            "image/png": "[encoded data removed]",
            "text/plain": [
              "<Figure size 432x288 with 1 Axes>"
            ]
          },
          "metadata": {
            "needs_background": "light"
          }
        }
      ]
    },
    {
      "cell_type": "code",
      "source": [
        "# correlations\n",
        "plt.style.use('ggplot')\n",
        "fig, ax = plt.subplots(figsize=(8, 6))\n",
        "fig.suptitle(\"Correlation between labels\")\n",
        "sns.heatmap(data[data.columns[1:]].corr(), annot = True, cmap = \"Blues\", ax = ax);"
      ],
      "metadata": {
        "colab": {
          "base_uri": "https://localhost:8080/",
          "height": 418
        },
        "id": "tcKq2QZiSdIT",
        "outputId": "eba09ff8-473c-4401-bba4-361ba441209c"
      },
      "execution_count": null,
      "outputs": [
        {
          "output_type": "display_data",
          "data": {
            "image/png": "[encoded data removed]",
            "text/plain": [
              "<Figure size 576x432 with 2 Axes>"
            ]
          },
          "metadata": {}
        }
      ]
    },
    {
      "cell_type": "markdown",
      "source": [
        "# Word2Vec"
      ],
      "metadata": {
        "id": "EFU-6keJrqw1"
      }
    },
    {
      "cell_type": "code",
      "source": [
        "# import pretrained word2vec\n",
        "word2vec = gensim.downloader.load('word2vec-google-news-300')"
      ],
      "metadata": {
        "colab": {
          "base_uri": "https://localhost:8080/"
        },
        "id": "7HE9VWkQ7QFQ",
        "outputId": "bf9d45aa-9973-49db-f867-e5f36399b6f5"
      },
      "execution_count": null,
      "outputs": [
        {
          "output_type": "stream",
          "name": "stdout",
          "text": [
            "[==================================================] 100.0% 1662.8/1662.8MB downloaded\n"
          ]
        }
      ]
    },
    {
      "cell_type": "code",
      "source": [
        "# separate each word\n",
        "dataset = []\n",
        "\n",
        "for word in data['tweet']:\n",
        "  dataset.append(word.split())"
      ],
      "metadata": {
        "id": "T36HNMLjru2I"
      },
      "execution_count": null,
      "outputs": []
    },
    {
      "cell_type": "code",
      "source": [
        "# create our own word2vec model since there are words in our dataset\n",
        "# which can't be found in the pretrained word2vec corpus\n",
        "model = Word2Vec(dataset, min_count = 1, size = 300, window = 5, sg = 0)"
      ],
      "metadata": {
        "id": "4mTsz8GXrwk-"
      },
      "execution_count": null,
      "outputs": []
    },
    {
      "cell_type": "code",
      "source": [
        "# verifying if the word in our dataset is found in the corpus.\n",
        "# If yes, we take it from there, if not, we're taking the embedding from our model of word2vec\n",
        "word_vec_train = []\n",
        "\n",
        "for i in data['tweet']:\n",
        "  value = None\n",
        "  if 'havetaken' in i:\n",
        "    i = i.replace(\"havetaken\", 'have taken')\n",
        "  for word in i.split(\" \"):\n",
        "    if len(i) == 0:\n",
        "      continue\n",
        "    if word in word2vec:\n",
        "      if value is None:\n",
        "        value = word2vec[word]\n",
        "      else:\n",
        "        value = value + word2vec[word]\n",
        "    else:\n",
        "      if value is None:\n",
        "        value = model[word]\n",
        "      else:\n",
        "        value = value + model[word]\n",
        "  # print(i)\n",
        "  value = value / len(i.split())\n",
        "  word_vec_train.append(value)"
      ],
      "metadata": {
        "colab": {
          "base_uri": "https://localhost:8080/"
        },
        "id": "tEehJ0qir4ro",
        "outputId": "d36d5a1d-166e-49e0-a7a3-8e42513e263f"
      },
      "execution_count": null,
      "outputs": [
        {
          "output_type": "stream",
          "name": "stderr",
          "text": [
            "/usr/local/lib/python3.7/dist-packages/ipykernel_launcher.py:21: DeprecationWarning: Call to deprecated `__getitem__` (Method will be removed in 4.0.0, use self.wv.__getitem__() instead).\n",
            "/usr/local/lib/python3.7/dist-packages/ipykernel_launcher.py:19: DeprecationWarning: Call to deprecated `__getitem__` (Method will be removed in 4.0.0, use self.wv.__getitem__() instead).\n"
          ]
        }
      ]
    },
    {
      "cell_type": "markdown",
      "source": [
        "# CNN"
      ],
      "metadata": {
        "id": "LTkio9wcr8VF"
      }
    },
    {
      "cell_type": "code",
      "source": [
        "# defining the class\n",
        "class my_class(torch.utils.data.Dataset):\n",
        "  \n",
        "  def __init__(self, X, y):\n",
        "    self.X = torch.from_numpy(X)\n",
        "    self.y = torch.from_numpy(y)\n",
        "\n",
        "  def __len__(self):\n",
        "      return len(self.X)\n",
        "\n",
        "  def __getitem__(self, i):\n",
        "      return self.X[i].unsqueeze(0), self.y[i]"
      ],
      "metadata": {
        "id": "QjAD-C-NsAUi"
      },
      "execution_count": null,
      "outputs": []
    },
    {
      "cell_type": "code",
      "source": [
        "# CNN model made after the one in the paper, the only difference is that we used\n",
        "# the Sigmoid function as we have binary values \n",
        "# and Softmax is used for multiclass classifications.\n",
        "# We also added an activation function, ReLU and a layer of Linear so that\n",
        "# we have the suitable output to use in our CNN model.\n",
        "\n",
        "class CNN(nn.Module):\n",
        "\n",
        "  def __init__(self):\n",
        "    super().__init__()\n",
        "    self.layers = nn.Sequential(\n",
        "      nn.Conv1d(1, 100, 2, stride = 1),\n",
        "      nn.Conv1d(100, 100, 3, stride = 1),\n",
        "      nn.Conv1d(100, 100, 4, stride = 1),\n",
        "      nn.MaxPool1d(4, stride = 4),\n",
        "      nn.MaxPool1d(4, stride = 4),\n",
        "      nn.ReLU(),\n",
        "      nn.Flatten(),\n",
        "      nn.Linear(1800, 1),\n",
        "      nn.Sigmoid())\n",
        "\n",
        "  def forward(self, x):\n",
        "    return self.layers(x).squeeze(1)"
      ],
      "metadata": {
        "id": "ZjTr4fM0sA-J"
      },
      "execution_count": null,
      "outputs": []
    },
    {
      "cell_type": "code",
      "source": [
        "# splitting the data for both subtask a and subtask b\n",
        "X_train, X_test, y_train, y_test = train_test_split(word_vec_train, data[['subtask_a', 'subtask_b']].values,\n",
        "                                                    test_size = 0.33, random_state = 42)"
      ],
      "metadata": {
        "id": "2SAX9eJgr-An"
      },
      "execution_count": null,
      "outputs": []
    },
    {
      "cell_type": "code",
      "source": [
        "# Creating train dataloader\n",
        "dataset = my_class(np.array(X_train), np.array(y_train[:,0]))\n",
        "train_loader = DataLoader(dataset, batch_size = 8, shuffle = True)"
      ],
      "metadata": {
        "id": "9IvQzaNTsHiu"
      },
      "execution_count": null,
      "outputs": []
    },
    {
      "cell_type": "code",
      "source": [
        "# Creating test dataloader\n",
        "dataset_test = my_class(np.array(X_test), np.array(y_test[:,0]))\n",
        "test_loader = DataLoader(dataset_test, batch_size = 1, shuffle = False)"
      ],
      "metadata": {
        "id": "JkzgGq2ZsLpS"
      },
      "execution_count": null,
      "outputs": []
    },
    {
      "cell_type": "code",
      "source": [
        "# number of epochs\n",
        "epochs = 15\n",
        "\n",
        "# initialize the CNN\n",
        "print(\"Cuda available?\", torch.cuda.is_available())\n",
        "cnn = CNN().cuda()\n",
        "\n",
        "# define the loss function and optimizer\n",
        "loss_function = nn.BCELoss()\n",
        "optimizer = torch.optim.Adam(cnn.parameters(), lr = 1e-4)\n",
        "optimizer.zero_grad() "
      ],
      "metadata": {
        "id": "yXYVTmK4sd5P",
        "colab": {
          "base_uri": "https://localhost:8080/"
        },
        "outputId": "89ea6524-60d9-4cf6-b3bc-f7e0544e7aac"
      },
      "execution_count": null,
      "outputs": [
        {
          "output_type": "stream",
          "name": "stdout",
          "text": [
            "Cuda available? True\n"
          ]
        }
      ]
    },
    {
      "cell_type": "code",
      "source": [
        "# defining the train function\n",
        "def train_function(epochs: int, train_loader: DataLoader, test_loader: DataLoader):\n",
        "  \n",
        "  use_cuda = True\n",
        "  for e in range(epochs):\n",
        "    cnn.train()\n",
        "    for val, label in train_loader:\n",
        "      val = val.cuda()\n",
        "      label = label.cuda()\n",
        "\n",
        "      optimizer.zero_grad()\n",
        "      out = cnn(val)\n",
        "\n",
        "      loss = loss_function(out.float(), label.float())\n",
        "      loss.backward()\n",
        "      optimizer.step()\n",
        "\n",
        "    print(\"The loss for the epoch {} is {:.8f}\".format(e, loss.item()))\n",
        "\n",
        "    count = len(test_loader)\n",
        "    correct = 0\n",
        "    predicts = []\n",
        "    cnn.eval()\n",
        "    with torch.no_grad():\n",
        "        for test_val, test_label in test_loader:\n",
        "            if use_cuda:\n",
        "                pred = -1\n",
        "                test_val = test_val.cuda()\n",
        "                test_label = test_label.cuda()\n",
        "                out_class = cnn(test_val)\n",
        "                if out_class > 0.5:\n",
        "                  pred = 1\n",
        "                else:\n",
        "                  pred = 0\n",
        "                predicts.append(pred)\n",
        "  \n",
        "            if pred == test_label:\n",
        "                correct += 1\n",
        "\n",
        "    print(\"The accuracy for the epoch {} is {:.2f}%\\n\".format(e, (correct / count) * 100))\n",
        "\n",
        "  return predicts"
      ],
      "metadata": {
        "id": "AqGbPw2nvhF8"
      },
      "execution_count": null,
      "outputs": []
    },
    {
      "cell_type": "code",
      "source": [
        "predicts = train_function(epochs, train_loader, test_loader)"
      ],
      "metadata": {
        "id": "cIFFGZRgsgPu",
        "colab": {
          "base_uri": "https://localhost:8080/"
        },
        "outputId": "f3181744-75f0-46f4-a14e-8aa155e20f3e"
      },
      "execution_count": null,
      "outputs": [
        {
          "output_type": "stream",
          "name": "stdout",
          "text": [
            "The loss for the epoch 0 is 0.57230091\n",
            "The accuracy for the epoch 0 is 65.89%\n",
            "\n",
            "The loss for the epoch 1 is 0.43747869\n",
            "The accuracy for the epoch 1 is 70.89%\n",
            "\n",
            "The loss for the epoch 2 is 0.73839611\n",
            "The accuracy for the epoch 2 is 72.11%\n",
            "\n",
            "The loss for the epoch 3 is 0.17351721\n",
            "The accuracy for the epoch 3 is 72.36%\n",
            "\n",
            "The loss for the epoch 4 is 0.47801477\n",
            "The accuracy for the epoch 4 is 72.34%\n",
            "\n",
            "The loss for the epoch 5 is 1.18909645\n",
            "The accuracy for the epoch 5 is 73.83%\n",
            "\n",
            "The loss for the epoch 6 is 0.63896120\n",
            "The accuracy for the epoch 6 is 73.39%\n",
            "\n",
            "The loss for the epoch 7 is 0.49878892\n",
            "The accuracy for the epoch 7 is 73.86%\n",
            "\n",
            "The loss for the epoch 8 is 0.39222047\n",
            "The accuracy for the epoch 8 is 73.65%\n",
            "\n",
            "The loss for the epoch 9 is 0.43549070\n",
            "The accuracy for the epoch 9 is 73.95%\n",
            "\n",
            "The loss for the epoch 10 is 0.86202902\n",
            "The accuracy for the epoch 10 is 73.58%\n",
            "\n",
            "The loss for the epoch 11 is 0.70253080\n",
            "The accuracy for the epoch 11 is 73.51%\n",
            "\n",
            "The loss for the epoch 12 is 0.25423232\n",
            "The accuracy for the epoch 12 is 74.22%\n",
            "\n",
            "The loss for the epoch 13 is 0.89998168\n",
            "The accuracy for the epoch 13 is 73.37%\n",
            "\n",
            "The loss for the epoch 14 is 0.64840168\n",
            "The accuracy for the epoch 14 is 73.30%\n",
            "\n"
          ]
        }
      ]
    },
    {
      "cell_type": "code",
      "source": [
        "# CNN's confusion matrix\n",
        "confusion_matrix(y_test[:,0], predicts)"
      ],
      "metadata": {
        "id": "pG3tjmtmv1gA",
        "colab": {
          "base_uri": "https://localhost:8080/"
        },
        "outputId": "20286763-0ec5-4fa3-f05e-190f61bcf2e5"
      },
      "execution_count": null,
      "outputs": [
        {
          "output_type": "execute_result",
          "data": {
            "text/plain": [
              "array([[2718,  145],\n",
              "       [1015,  467]])"
            ]
          },
          "metadata": {},
          "execution_count": 40
        }
      ]
    },
    {
      "cell_type": "code",
      "source": [
        "arr = confusion_matrix(y_test[:,0], predicts)\n",
        "\n",
        "labels = ['True Neg','False Pos','False Neg','True Pos']\n",
        "\n",
        "labels = np.asarray(labels).reshape(2,2)\n",
        "\n",
        "ax = sns.heatmap(arr, annot = labels, fmt = '', cmap = 'Blues')\n",
        "\n",
        "ax.set_xlabel('Predicted Values')\n",
        "ax.set_ylabel('Actual Values ');\n",
        "\n",
        "ax.xaxis.set_ticklabels(['False','True'])\n",
        "ax.yaxis.set_ticklabels(['False','True'])\n",
        "\n",
        "plt.show()"
      ],
      "metadata": {
        "id": "GGdI9tKjpNJJ",
        "colab": {
          "base_uri": "https://localhost:8080/",
          "height": 282
        },
        "outputId": "d269b933-4315-40ee-93f1-09bdbbb90a2b"
      },
      "execution_count": null,
      "outputs": [
        {
          "output_type": "display_data",
          "data": {
            "image/png": "[encoded data removed]",
            "text/plain": [
              "<Figure size 432x288 with 2 Axes>"
            ]
          },
          "metadata": {}
        }
      ]
    },
    {
      "cell_type": "code",
      "source": [
        "# CNN's precision\n",
        "precision_score(y_test[:,0], predicts, average = 'macro')"
      ],
      "metadata": {
        "id": "qIcxBTREwKS8",
        "colab": {
          "base_uri": "https://localhost:8080/"
        },
        "outputId": "1992ea21-d6f2-467c-e098-e552d2a1d57b"
      },
      "execution_count": null,
      "outputs": [
        {
          "output_type": "execute_result",
          "data": {
            "text/plain": [
              "0.7455863093518504"
            ]
          },
          "metadata": {},
          "execution_count": 42
        }
      ]
    },
    {
      "cell_type": "code",
      "source": [
        "# CNN's recall\n",
        "recall_score(y_test[:,0], predicts, average = 'macro')"
      ],
      "metadata": {
        "id": "3KHZH_uxwMo2",
        "colab": {
          "base_uri": "https://localhost:8080/"
        },
        "outputId": "b9c8a564-f6c5-447c-b795-ce1d787ce3a8"
      },
      "execution_count": null,
      "outputs": [
        {
          "output_type": "execute_result",
          "data": {
            "text/plain": [
              "0.6322342672555"
            ]
          },
          "metadata": {},
          "execution_count": 43
        }
      ]
    },
    {
      "cell_type": "code",
      "source": [
        "# CNN's F1\n",
        "f1_score(y_test[:,0], predicts, average = 'macro')"
      ],
      "metadata": {
        "id": "nn30CyXMwN6V",
        "colab": {
          "base_uri": "https://localhost:8080/"
        },
        "outputId": "893fed32-ac46-4c02-8509-a5ea05f6e11b"
      },
      "execution_count": null,
      "outputs": [
        {
          "output_type": "execute_result",
          "data": {
            "text/plain": [
              "0.6350860670384008"
            ]
          },
          "metadata": {},
          "execution_count": 44
        }
      ]
    },
    {
      "cell_type": "markdown",
      "source": [
        "# Other Models"
      ],
      "metadata": {
        "id": "6e8vGU-9slqz"
      }
    },
    {
      "cell_type": "code",
      "source": [
        "# helper function for model training\n",
        "def train_model(clf, X_train, X_test, y_train, y_test):\n",
        "  clf.fit(np.array(X_train), np.array(y_train))\n",
        "  prediction = clf.predict(X_test)\n",
        "  print(\"Score:\", accuracy_score(y_test, prediction))\n"
      ],
      "metadata": {
        "id": "8OowX4WM9pfZ"
      },
      "execution_count": null,
      "outputs": []
    },
    {
      "cell_type": "code",
      "source": [
        "clf = svm.SVC(kernel = 'rbf', C = 5)\n",
        "train_model(clf, X_train, X_test, y_train[:,0], y_test[:,0])"
      ],
      "metadata": {
        "id": "MMo2FaA6sne9",
        "colab": {
          "base_uri": "https://localhost:8080/"
        },
        "outputId": "334f82b6-5db7-41dd-b2af-2ef6a8b71c4e"
      },
      "execution_count": null,
      "outputs": [
        {
          "output_type": "stream",
          "name": "stdout",
          "text": [
            "Score: 0.7514384349827388\n"
          ]
        }
      ]
    },
    {
      "cell_type": "code",
      "source": [
        "#SVM F1 macro score\n",
        "f1_score(y_test[:,0], prediction, average='macro')"
      ],
      "metadata": {
        "id": "zUfuoZtZ3X93",
        "colab": {
          "base_uri": "https://localhost:8080/"
        },
        "outputId": "484475b7-5ff7-47d0-e4af-4f5d1f01dacc"
      },
      "execution_count": null,
      "outputs": [
        {
          "output_type": "execute_result",
          "data": {
            "text/plain": [
              "0.6983355807416137"
            ]
          },
          "metadata": {},
          "execution_count": 59
        }
      ]
    },
    {
      "cell_type": "code",
      "source": [
        "clf = SGDClassifier(loss = \"hinge\", penalty = \"l1\", max_iter = 10)\n",
        "train_model(clf, X_train, X_test, y_train[:,0], y_test[:,0])"
      ],
      "metadata": {
        "id": "_oNwpOtHsoq_",
        "colab": {
          "base_uri": "https://localhost:8080/"
        },
        "outputId": "8c0a8e8f-98e1-42ae-b423-534a5c46f313"
      },
      "execution_count": null,
      "outputs": [
        {
          "output_type": "stream",
          "name": "stdout",
          "text": [
            "Score: 0.7159953970080553\n"
          ]
        },
        {
          "output_type": "stream",
          "name": "stderr",
          "text": [
            "/usr/local/lib/python3.7/dist-packages/sklearn/linear_model/_stochastic_gradient.py:700: ConvergenceWarning: Maximum number of iteration reached before convergence. Consider increasing max_iter to improve the fit.\n",
            "  ConvergenceWarning,\n"
          ]
        }
      ]
    },
    {
      "cell_type": "code",
      "source": [
        "clf = tree.DecisionTreeClassifier(random_state = 0, max_depth = 5)\n",
        "train_model(clf, X_train, X_test, y_train[:,0], y_test[:,0])"
      ],
      "metadata": {
        "id": "JC9XkNvpsqDL",
        "colab": {
          "base_uri": "https://localhost:8080/"
        },
        "outputId": "b4060fa9-8a92-42a1-dec4-f114abf5fcaf"
      },
      "execution_count": null,
      "outputs": [
        {
          "output_type": "stream",
          "name": "stdout",
          "text": [
            "Score: 0.6918296892980438\n"
          ]
        }
      ]
    },
    {
      "cell_type": "code",
      "source": [
        "clf = RandomForestClassifier(n_estimators = 1500, max_depth = 5, random_state = 0, n_jobs = -1)\n",
        "train_model(clf, X_train, X_test, y_train[:,0], y_test[:,0])"
      ],
      "metadata": {
        "id": "OW-AszvswnV_",
        "colab": {
          "base_uri": "https://localhost:8080/"
        },
        "outputId": "02176ab5-85b6-4ffd-b146-cdba764d2e40"
      },
      "execution_count": null,
      "outputs": [
        {
          "output_type": "stream",
          "name": "stdout",
          "text": [
            "Score: 0.6980437284234753\n"
          ]
        }
      ]
    },
    {
      "cell_type": "code",
      "source": [
        "clf = GradientBoostingClassifier(n_estimators = 100, learning_rate = 1.0,\n",
        "    max_depth = 1, random_state = 0, loss = 'exponential', criterion = 'squared_error', max_features = 'log2')\n",
        "train_model(clf, X_train, X_test, y_train[:,0], y_test[:,0])"
      ],
      "metadata": {
        "id": "9QKmmVjzsrKN",
        "colab": {
          "base_uri": "https://localhost:8080/"
        },
        "outputId": "4ac0a22d-5dbd-497e-cebc-3fcab3de4c83"
      },
      "execution_count": null,
      "outputs": [
        {
          "output_type": "stream",
          "name": "stdout",
          "text": [
            "Score: 0.7268124280782509\n"
          ]
        }
      ]
    },
    {
      "cell_type": "code",
      "source": [
        "# test model for subtask B\n",
        "clf2 = GradientBoostingClassifier(n_estimators = 100, learning_rate = 1.0,\n",
        "    max_depth = 1, random_state = 0, loss = 'exponential', criterion = 'squared_error', max_features = 'log2')\n",
        "train_model(clf2, X_train, X_test, y_train[:,1], y_test[:,1])"
      ],
      "metadata": {
        "id": "q7Wlw7M8tVMI",
        "colab": {
          "base_uri": "https://localhost:8080/"
        },
        "outputId": "f26e164e-9088-4694-dc11-599f9873e604"
      },
      "execution_count": null,
      "outputs": [
        {
          "output_type": "stream",
          "name": "stdout",
          "text": [
            "Score: 0.7293440736478711\n"
          ]
        }
      ]
    },
    {
      "cell_type": "code",
      "source": [
        "# other data\n",
        "pred1 = clf.predict(X_test)\n",
        "pred2 = clf2.predict(X_test)\n",
        "\n",
        "pred2[pred1 == 0] = 0\n",
        "\n",
        "print(\"Number of matches:\", (pred1 == pred2).sum())\n",
        "\n",
        "# Combined the predictions, calculated the accuracy of how our data is predicted with subtask_b based on subtask_a\n",
        "accuracy_score(np.array([pred1, pred2]).reshape(pred1.shape[0], 2), y_test)"
      ],
      "metadata": {
        "id": "bf-CB1R1tXZg",
        "colab": {
          "base_uri": "https://localhost:8080/"
        },
        "outputId": "dedf55c9-03bf-483e-83b9-26d6c31fa61e"
      },
      "execution_count": null,
      "outputs": [
        {
          "output_type": "stream",
          "name": "stdout",
          "text": [
            "Number of matches: 3883\n"
          ]
        },
        {
          "output_type": "execute_result",
          "data": {
            "text/plain": [
              "0.4386651323360184"
            ]
          },
          "metadata": {},
          "execution_count": 65
        }
      ]
    }
  ]
}